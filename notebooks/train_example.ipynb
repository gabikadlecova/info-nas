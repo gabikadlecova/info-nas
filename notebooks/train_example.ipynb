{
 "cells": [
  {
   "cell_type": "code",
   "execution_count": 1,
   "metadata": {},
   "outputs": [],
   "source": [
    "from info_nas.datasets.networks.pretrained import pretrain_network_cifar\n",
    "from info_nas.datasets.networks.utils import load_nasbench\n",
    "from nasbench_pytorch.datasets.cifar10 import prepare_dataset"
   ]
  },
  {
   "cell_type": "code",
   "execution_count": 3,
   "metadata": {},
   "outputs": [
    {
     "data": {
      "text/plain": [
       "['.git',\n",
       " '.gitignore',\n",
       " '.idea',\n",
       " 'data',\n",
       " 'info_nas',\n",
       " 'info_nas.egg-info',\n",
       " 'LICENSE',\n",
       " 'notebooks',\n",
       " 'README.md',\n",
       " 'setup.py']"
      ]
     },
     "execution_count": 3,
     "metadata": {},
     "output_type": "execute_result"
    }
   ],
   "source": [
    "import os\n",
    "\n",
    "os.listdir('..')"
   ]
  },
  {
   "cell_type": "code",
   "execution_count": null,
   "metadata": {},
   "outputs": [],
   "source": []
  },
  {
   "cell_type": "code",
   "execution_count": 5,
   "metadata": {},
   "outputs": [
    {
     "name": "stdout",
     "output_type": "stream",
     "text": [
      "\n",
      "--- Preparing CIFAR10 Data ---\n",
      "Files already downloaded and verified\n",
      "Files already downloaded and verified\n",
      "--- CIFAR10 Data Prepared ---\n",
      "\n"
     ]
    }
   ],
   "source": [
    "seed = 42\n",
    "batch_size = 128\n",
    "num_workers = 8\n",
    "\n",
    "dataset = prepare_dataset(batch_size, root='../data/cifar/', validation_size=1000, random_state=seed,\n",
    "                          num_workers=num_workers)\n",
    "train, n_train, val, n_val, test, n_test = dataset"
   ]
  },
  {
   "cell_type": "code",
   "execution_count": 5,
   "metadata": {},
   "outputs": [
    {
     "name": "stdout",
     "output_type": "stream",
     "text": [
      "train:  49000\n",
      "validation:  1000\n",
      "test:  10000\n"
     ]
    }
   ],
   "source": [
    "print('train: ', n_train)\n",
    "print('validation: ', n_val)\n",
    "print('test: ', n_test)"
   ]
  },
  {
   "cell_type": "code",
   "execution_count": 4,
   "metadata": {},
   "outputs": [
    {
     "name": "stdout",
     "output_type": "stream",
     "text": [
      "Loading dataset from file... This may take a few minutes...\n",
      "Loaded dataset in 33 seconds\n"
     ]
    }
   ],
   "source": [
    "nasbench_path = '../data/nasbench_only108.tfrecord'\n",
    "\n",
    "nb = load_nasbench(nasbench_path)"
   ]
  },
  {
   "cell_type": "code",
   "execution_count": 7,
   "metadata": {},
   "outputs": [
    {
     "data": {
      "text/plain": [
       "423624"
      ]
     },
     "execution_count": 7,
     "metadata": {},
     "output_type": "execute_result"
    }
   ],
   "source": [
    "len(nb)"
   ]
  },
  {
   "cell_type": "code",
   "execution_count": 6,
   "metadata": {},
   "outputs": [],
   "source": [
    "nets = nb[:50]"
   ]
  },
  {
   "cell_type": "code",
   "execution_count": null,
   "metadata": {},
   "outputs": [],
   "source": [
    "nets[0]"
   ]
  },
  {
   "cell_type": "code",
   "execution_count": 7,
   "metadata": {},
   "outputs": [],
   "source": [
    "from nasbench_pytorch.model import Network\n",
    "\n",
    "num_labels = 10\n",
    "\n",
    "def to_model(ops, mat):\n",
    "    return Network((mat, ops), num_labels)\n",
    "\n",
    "net_dict = {v[0]: to_model(v[1], v[2]) for v in nets}"
   ]
  },
  {
   "cell_type": "code",
   "execution_count": 8,
   "metadata": {},
   "outputs": [
    {
     "data": {
      "text/plain": [
       "{'cifar-10': {'batch_size': 256, 'validation_size': 1000, 'num_workers': 8},\n",
       " 'nb_dataset': {'test_size': 0.1},\n",
       " 'pretrain': {'num_epochs': 12, 'optimizer': 'SGD'}}"
      ]
     },
     "execution_count": 8,
     "metadata": {},
     "output_type": "execute_result"
    }
   ],
   "source": [
    "from info_nas.datasets.config import load_json_cfg\n",
    "\n",
    "config = load_json_cfg('../info_nas/configs/pretrain_config.json')\n",
    "config"
   ]
  },
  {
   "cell_type": "code",
   "execution_count": 9,
   "metadata": {
    "scrolled": true
   },
   "outputs": [
    {
     "name": "stdout",
     "output_type": "stream",
     "text": [
      "22/06/2021 15:26:01\n",
      "--------------------\n",
      "Epoch=0/12 Batch=1/383 | Loss=2.309, Acc=0.133(17/128)\n",
      "Epoch=0/12 Batch=51/383 | Loss=2.089, Acc=0.218(1421/6528)\n",
      "Epoch=0/12 Batch=101/383 | Loss=1.936, Acc=0.274(3543/12928)\n",
      "Epoch=0/12 Batch=151/383 | Loss=1.840, Acc=0.314(6063/19328)\n",
      "Epoch=0/12 Batch=201/383 | Loss=1.764, Acc=0.345(8878/25728)\n",
      "Epoch=0/12 Batch=251/383 | Loss=1.690, Acc=0.375(12056/32128)\n",
      "Epoch=0/12 Batch=301/383 | Loss=1.632, Acc=0.400(15408/38528)\n",
      "Epoch=0/12 Batch=351/383 | Loss=1.586, Acc=0.419(18827/44928)\n",
      "Testing: Loss=1.228, Acc=0.548(548/1000)\n",
      "--------------------\n",
      "Epoch=1/12 Batch=1/383 | Loss=1.060, Acc=0.586(75/128)\n",
      "Epoch=1/12 Batch=51/383 | Loss=1.129, Acc=0.593(3870/6528)\n",
      "Epoch=1/12 Batch=101/383 | Loss=1.117, Acc=0.598(7733/12928)\n",
      "Epoch=1/12 Batch=151/383 | Loss=1.109, Acc=0.601(11609/19328)\n",
      "Epoch=1/12 Batch=201/383 | Loss=1.092, Acc=0.608(15639/25728)\n",
      "Epoch=1/12 Batch=251/383 | Loss=1.070, Acc=0.617(19837/32128)\n",
      "Epoch=1/12 Batch=301/383 | Loss=1.049, Acc=0.625(24088/38528)\n",
      "Epoch=1/12 Batch=351/383 | Loss=1.033, Acc=0.632(28415/44928)\n",
      "Testing: Loss=0.848, Acc=0.694(694/1000)\n",
      "--------------------\n",
      "Epoch=2/12 Batch=1/383 | Loss=0.908, Acc=0.672(86/128)\n",
      "Epoch=2/12 Batch=51/383 | Loss=0.801, Acc=0.718(4688/6528)\n",
      "Epoch=2/12 Batch=101/383 | Loss=0.812, Acc=0.716(9257/12928)\n",
      "Epoch=2/12 Batch=151/383 | Loss=0.805, Acc=0.720(13923/19328)\n",
      "Epoch=2/12 Batch=201/383 | Loss=0.796, Acc=0.722(18574/25728)\n",
      "Epoch=2/12 Batch=251/383 | Loss=0.791, Acc=0.724(23269/32128)\n",
      "Epoch=2/12 Batch=301/383 | Loss=0.782, Acc=0.728(28040/38528)\n",
      "Epoch=2/12 Batch=351/383 | Loss=0.774, Acc=0.731(32825/44928)\n",
      "Testing: Loss=0.663, Acc=0.773(773/1000)\n",
      "--------------------\n",
      "Epoch=3/12 Batch=1/383 | Loss=0.551, Acc=0.797(102/128)\n",
      "Epoch=3/12 Batch=51/383 | Loss=0.628, Acc=0.779(5083/6528)\n",
      "Epoch=3/12 Batch=101/383 | Loss=0.638, Acc=0.777(10044/12928)\n",
      "Epoch=3/12 Batch=151/383 | Loss=0.643, Acc=0.774(14969/19328)\n",
      "Epoch=3/12 Batch=201/383 | Loss=0.639, Acc=0.777(19985/25728)\n",
      "Epoch=3/12 Batch=251/383 | Loss=0.636, Acc=0.778(24987/32128)\n",
      "Epoch=3/12 Batch=301/383 | Loss=0.631, Acc=0.780(30069/38528)\n",
      "Epoch=3/12 Batch=351/383 | Loss=0.626, Acc=0.783(35176/44928)\n",
      "Testing: Loss=0.641, Acc=0.771(771/1000)\n",
      "--------------------\n",
      "Epoch=4/12 Batch=1/383 | Loss=0.455, Acc=0.844(108/128)\n",
      "Epoch=4/12 Batch=51/383 | Loss=0.542, Acc=0.813(5308/6528)\n",
      "Epoch=4/12 Batch=101/383 | Loss=0.544, Acc=0.813(10515/12928)\n",
      "Epoch=4/12 Batch=151/383 | Loss=0.538, Acc=0.815(15760/19328)\n",
      "Epoch=4/12 Batch=201/383 | Loss=0.531, Acc=0.816(20991/25728)\n",
      "Epoch=4/12 Batch=251/383 | Loss=0.533, Acc=0.815(26194/32128)\n",
      "Epoch=4/12 Batch=301/383 | Loss=0.533, Acc=0.815(31409/38528)\n",
      "Epoch=4/12 Batch=351/383 | Loss=0.531, Acc=0.815(36620/44928)\n",
      "Testing: Loss=0.599, Acc=0.784(784/1000)\n",
      "--------------------\n",
      "Epoch=5/12 Batch=1/383 | Loss=0.427, Acc=0.836(107/128)\n",
      "Epoch=5/12 Batch=51/383 | Loss=0.433, Acc=0.853(5566/6528)\n",
      "Epoch=5/12 Batch=101/383 | Loss=0.443, Acc=0.850(10988/12928)\n",
      "Epoch=5/12 Batch=151/383 | Loss=0.450, Acc=0.846(16346/19328)\n",
      "Epoch=5/12 Batch=201/383 | Loss=0.453, Acc=0.844(21707/25728)\n",
      "Epoch=5/12 Batch=251/383 | Loss=0.452, Acc=0.844(27103/32128)\n",
      "Epoch=5/12 Batch=301/383 | Loss=0.453, Acc=0.844(32500/38528)\n",
      "Epoch=5/12 Batch=351/383 | Loss=0.454, Acc=0.844(37907/44928)\n",
      "Testing: Loss=0.514, Acc=0.828(828/1000)\n",
      "--------------------\n",
      "Epoch=6/12 Batch=1/383 | Loss=0.399, Acc=0.836(107/128)\n",
      "Epoch=6/12 Batch=51/383 | Loss=0.399, Acc=0.860(5612/6528)\n",
      "Epoch=6/12 Batch=101/383 | Loss=0.385, Acc=0.868(11220/12928)\n",
      "Epoch=6/12 Batch=151/383 | Loss=0.386, Acc=0.868(16782/19328)\n",
      "Epoch=6/12 Batch=201/383 | Loss=0.388, Acc=0.868(22335/25728)\n",
      "Epoch=6/12 Batch=251/383 | Loss=0.391, Acc=0.866(27825/32128)\n",
      "Epoch=6/12 Batch=301/383 | Loss=0.389, Acc=0.866(33374/38528)\n",
      "Epoch=6/12 Batch=351/383 | Loss=0.388, Acc=0.866(38908/44928)\n",
      "Testing: Loss=0.547, Acc=0.811(811/1000)\n",
      "--------------------\n",
      "Epoch=7/12 Batch=1/383 | Loss=0.350, Acc=0.883(113/128)\n",
      "Epoch=7/12 Batch=51/383 | Loss=0.329, Acc=0.889(5804/6528)\n",
      "Epoch=7/12 Batch=101/383 | Loss=0.325, Acc=0.891(11518/12928)\n",
      "Epoch=7/12 Batch=151/383 | Loss=0.325, Acc=0.889(17186/19328)\n",
      "Epoch=7/12 Batch=201/383 | Loss=0.328, Acc=0.887(22825/25728)\n",
      "Epoch=7/12 Batch=251/383 | Loss=0.328, Acc=0.887(28494/32128)\n",
      "Epoch=7/12 Batch=301/383 | Loss=0.330, Acc=0.887(34159/38528)\n",
      "Epoch=7/12 Batch=351/383 | Loss=0.330, Acc=0.887(39832/44928)\n",
      "Testing: Loss=0.448, Acc=0.845(845/1000)\n",
      "--------------------\n",
      "Epoch=8/12 Batch=1/383 | Loss=0.248, Acc=0.930(119/128)\n",
      "Epoch=8/12 Batch=51/383 | Loss=0.275, Acc=0.906(5917/6528)\n",
      "Epoch=8/12 Batch=101/383 | Loss=0.275, Acc=0.904(11693/12928)\n",
      "Epoch=8/12 Batch=151/383 | Loss=0.277, Acc=0.904(17463/19328)\n",
      "Epoch=8/12 Batch=201/383 | Loss=0.274, Acc=0.904(23263/25728)\n",
      "Epoch=8/12 Batch=251/383 | Loss=0.278, Acc=0.902(28980/32128)\n",
      "Epoch=8/12 Batch=301/383 | Loss=0.279, Acc=0.902(34765/38528)\n",
      "Epoch=8/12 Batch=351/383 | Loss=0.278, Acc=0.903(40557/44928)\n",
      "Testing: Loss=0.416, Acc=0.873(873/1000)\n",
      "--------------------\n",
      "Epoch=9/12 Batch=1/383 | Loss=0.340, Acc=0.883(113/128)\n",
      "Epoch=9/12 Batch=51/383 | Loss=0.227, Acc=0.919(6002/6528)\n",
      "Epoch=9/12 Batch=101/383 | Loss=0.229, Acc=0.920(11897/12928)\n",
      "Epoch=9/12 Batch=151/383 | Loss=0.231, Acc=0.920(17781/19328)\n",
      "Epoch=9/12 Batch=201/383 | Loss=0.230, Acc=0.920(23670/25728)\n",
      "Epoch=9/12 Batch=251/383 | Loss=0.231, Acc=0.920(29554/32128)\n",
      "Epoch=9/12 Batch=301/383 | Loss=0.233, Acc=0.919(35403/38528)\n",
      "Epoch=9/12 Batch=351/383 | Loss=0.232, Acc=0.919(41311/44928)\n",
      "Testing: Loss=0.391, Acc=0.867(867/1000)\n",
      "--------------------\n",
      "Epoch=10/12 Batch=1/383 | Loss=0.207, Acc=0.906(116/128)\n"
     ]
    },
    {
     "ename": "KeyboardInterrupt",
     "evalue": "",
     "output_type": "error",
     "traceback": [
      "\u001b[0;31m---------------------------------------------------------------------------\u001b[0m",
      "\u001b[0;31mKeyboardInterrupt\u001b[0m                         Traceback (most recent call last)",
      "\u001b[0;32m<ipython-input-9-0ba5f58c8be9>\u001b[0m in \u001b[0;36m<module>\u001b[0;34m\u001b[0m\n\u001b[1;32m     12\u001b[0m     \u001b[0;31m# train net and save it\u001b[0m\u001b[0;34m\u001b[0m\u001b[0;34m\u001b[0m\u001b[0;34m\u001b[0m\u001b[0m\n\u001b[1;32m     13\u001b[0m     \u001b[0mnet\u001b[0m \u001b[0;34m=\u001b[0m \u001b[0mnet\u001b[0m\u001b[0;34m.\u001b[0m\u001b[0mto\u001b[0m\u001b[0;34m(\u001b[0m\u001b[0mdevice\u001b[0m\u001b[0;34m)\u001b[0m\u001b[0;34m\u001b[0m\u001b[0;34m\u001b[0m\u001b[0m\n\u001b[0;32m---> 14\u001b[0;31m     net, metrics = pretrain_network_cifar(net, train, val, test, device=device,\n\u001b[0m\u001b[1;32m     15\u001b[0m                                           print_frequency=50, **config['pretrain'])\n\u001b[1;32m     16\u001b[0m \u001b[0;34m\u001b[0m\u001b[0m\n",
      "\u001b[0;32m/media/win_hdd/Gabi/Code/mff/ML/DP/code/info-nas/info_nas/datasets/networks/pretrained.py\u001b[0m in \u001b[0;36mpretrain_network_cifar\u001b[0;34m(net, train_loader, valid_loader, test_loader, num_tests, num_epochs, device, print_frequency, **kwargs)\u001b[0m\n\u001b[1;32m     36\u001b[0m \u001b[0;34m\u001b[0m\u001b[0m\n\u001b[1;32m     37\u001b[0m     \u001b[0;31m# TODO will be changed if more metrics needed\u001b[0m\u001b[0;34m\u001b[0m\u001b[0;34m\u001b[0m\u001b[0;34m\u001b[0m\u001b[0m\n\u001b[0;32m---> 38\u001b[0;31m     loss, acc, val_loss, val_acc = train(net, train_loader, validation_loader=valid_loader, num_epochs=num_epochs,\n\u001b[0m\u001b[1;32m     39\u001b[0m                                          device=device, print_frequency=print_frequency, **kwargs)\n\u001b[1;32m     40\u001b[0m \u001b[0;34m\u001b[0m\u001b[0m\n",
      "\u001b[0;32m/media/win_hdd/Gabi/Code/mff/ML/DP/code/NASBench-PyTorch/nasbench_pytorch/trainer.py\u001b[0m in \u001b[0;36mtrain\u001b[0;34m(net, train_loader, loss, optimizer, scheduler, grad_clip, num_epochs, num_validation, validation_loader, device, print_frequency)\u001b[0m\n\u001b[1;32m     46\u001b[0m             \u001b[0mcurr_loss\u001b[0m \u001b[0;34m=\u001b[0m \u001b[0mloss\u001b[0m\u001b[0;34m(\u001b[0m\u001b[0moutputs\u001b[0m\u001b[0;34m,\u001b[0m \u001b[0mtargets\u001b[0m\u001b[0;34m)\u001b[0m\u001b[0;34m\u001b[0m\u001b[0;34m\u001b[0m\u001b[0m\n\u001b[1;32m     47\u001b[0m             \u001b[0mcurr_loss\u001b[0m\u001b[0;34m.\u001b[0m\u001b[0mbackward\u001b[0m\u001b[0;34m(\u001b[0m\u001b[0;34m)\u001b[0m\u001b[0;34m\u001b[0m\u001b[0;34m\u001b[0m\u001b[0m\n\u001b[0;32m---> 48\u001b[0;31m             \u001b[0mnn\u001b[0m\u001b[0;34m.\u001b[0m\u001b[0mutils\u001b[0m\u001b[0;34m.\u001b[0m\u001b[0mclip_grad_norm_\u001b[0m\u001b[0;34m(\u001b[0m\u001b[0mnet\u001b[0m\u001b[0;34m.\u001b[0m\u001b[0mparameters\u001b[0m\u001b[0;34m(\u001b[0m\u001b[0;34m)\u001b[0m\u001b[0;34m,\u001b[0m \u001b[0mgrad_clip\u001b[0m\u001b[0;34m)\u001b[0m\u001b[0;34m\u001b[0m\u001b[0;34m\u001b[0m\u001b[0m\n\u001b[0m\u001b[1;32m     49\u001b[0m             \u001b[0moptimizer\u001b[0m\u001b[0;34m.\u001b[0m\u001b[0mstep\u001b[0m\u001b[0;34m(\u001b[0m\u001b[0;34m)\u001b[0m\u001b[0;34m\u001b[0m\u001b[0;34m\u001b[0m\u001b[0m\n\u001b[1;32m     50\u001b[0m \u001b[0;34m\u001b[0m\u001b[0m\n",
      "\u001b[0;32m~/anaconda3/envs/pyt/lib/python3.8/site-packages/torch/nn/utils/clip_grad.py\u001b[0m in \u001b[0;36mclip_grad_norm_\u001b[0;34m(parameters, max_norm, norm_type)\u001b[0m\n\u001b[1;32m     36\u001b[0m         \u001b[0mtotal_norm\u001b[0m \u001b[0;34m=\u001b[0m \u001b[0mtorch\u001b[0m\u001b[0;34m.\u001b[0m\u001b[0mnorm\u001b[0m\u001b[0;34m(\u001b[0m\u001b[0mtorch\u001b[0m\u001b[0;34m.\u001b[0m\u001b[0mstack\u001b[0m\u001b[0;34m(\u001b[0m\u001b[0;34m[\u001b[0m\u001b[0mtorch\u001b[0m\u001b[0;34m.\u001b[0m\u001b[0mnorm\u001b[0m\u001b[0;34m(\u001b[0m\u001b[0mp\u001b[0m\u001b[0;34m.\u001b[0m\u001b[0mgrad\u001b[0m\u001b[0;34m.\u001b[0m\u001b[0mdetach\u001b[0m\u001b[0;34m(\u001b[0m\u001b[0;34m)\u001b[0m\u001b[0;34m,\u001b[0m \u001b[0mnorm_type\u001b[0m\u001b[0;34m)\u001b[0m\u001b[0;34m.\u001b[0m\u001b[0mto\u001b[0m\u001b[0;34m(\u001b[0m\u001b[0mdevice\u001b[0m\u001b[0;34m)\u001b[0m \u001b[0;32mfor\u001b[0m \u001b[0mp\u001b[0m \u001b[0;32min\u001b[0m \u001b[0mparameters\u001b[0m\u001b[0;34m]\u001b[0m\u001b[0;34m)\u001b[0m\u001b[0;34m,\u001b[0m \u001b[0mnorm_type\u001b[0m\u001b[0;34m)\u001b[0m\u001b[0;34m\u001b[0m\u001b[0;34m\u001b[0m\u001b[0m\n\u001b[1;32m     37\u001b[0m     \u001b[0mclip_coef\u001b[0m \u001b[0;34m=\u001b[0m \u001b[0mmax_norm\u001b[0m \u001b[0;34m/\u001b[0m \u001b[0;34m(\u001b[0m\u001b[0mtotal_norm\u001b[0m \u001b[0;34m+\u001b[0m \u001b[0;36m1e-6\u001b[0m\u001b[0;34m)\u001b[0m\u001b[0;34m\u001b[0m\u001b[0;34m\u001b[0m\u001b[0m\n\u001b[0;32m---> 38\u001b[0;31m     \u001b[0;32mif\u001b[0m \u001b[0mclip_coef\u001b[0m \u001b[0;34m<\u001b[0m \u001b[0;36m1\u001b[0m\u001b[0;34m:\u001b[0m\u001b[0;34m\u001b[0m\u001b[0;34m\u001b[0m\u001b[0m\n\u001b[0m\u001b[1;32m     39\u001b[0m         \u001b[0;32mfor\u001b[0m \u001b[0mp\u001b[0m \u001b[0;32min\u001b[0m \u001b[0mparameters\u001b[0m\u001b[0;34m:\u001b[0m\u001b[0;34m\u001b[0m\u001b[0;34m\u001b[0m\u001b[0m\n\u001b[1;32m     40\u001b[0m             \u001b[0mp\u001b[0m\u001b[0;34m.\u001b[0m\u001b[0mgrad\u001b[0m\u001b[0;34m.\u001b[0m\u001b[0mdetach\u001b[0m\u001b[0;34m(\u001b[0m\u001b[0;34m)\u001b[0m\u001b[0;34m.\u001b[0m\u001b[0mmul_\u001b[0m\u001b[0;34m(\u001b[0m\u001b[0mclip_coef\u001b[0m\u001b[0;34m.\u001b[0m\u001b[0mto\u001b[0m\u001b[0;34m(\u001b[0m\u001b[0mp\u001b[0m\u001b[0;34m.\u001b[0m\u001b[0mgrad\u001b[0m\u001b[0;34m.\u001b[0m\u001b[0mdevice\u001b[0m\u001b[0;34m)\u001b[0m\u001b[0;34m)\u001b[0m\u001b[0;34m\u001b[0m\u001b[0;34m\u001b[0m\u001b[0m\n",
      "\u001b[0;31mKeyboardInterrupt\u001b[0m: "
     ]
    }
   ],
   "source": [
    "import torch\n",
    "from info_nas.datasets.networks.utils import save_trained_net\n",
    "from datetime import datetime\n",
    "\n",
    "torch.backends.cudnn.benchmark = True\n",
    "device = torch.device('cuda')\n",
    "\n",
    "for net_hash, net in net_dict.items():\n",
    "    now = datetime.now()\n",
    "    print(now.strftime(\"%d/%m/%Y %H:%M:%S\\n--------------------\"))\n",
    "    \n",
    "    # train net and save it\n",
    "    net = net.to(device)\n",
    "    net, metrics = pretrain_network_cifar(net, train, val, test, device=device,\n",
    "                                          print_frequency=50, **config['pretrain'])\n",
    "    \n",
    "    save_trained_net(net_hash, net, info=metrics, net_args=[num_labels])"
   ]
  },
  {
   "cell_type": "code",
   "execution_count": null,
   "metadata": {},
   "outputs": [],
   "source": [
    "#jen 10 epochs for testing (108 trvá)"
   ]
  }
 ],
 "metadata": {
  "kernelspec": {
   "display_name": "pyt_conda",
   "language": "python",
   "name": "pyt_conda"
  },
  "language_info": {
   "codemirror_mode": {
    "name": "ipython",
    "version": 3
   },
   "file_extension": ".py",
   "mimetype": "text/x-python",
   "name": "python",
   "nbconvert_exporter": "python",
   "pygments_lexer": "ipython3",
   "version": "3.8.10"
  },
  "toc": {
   "base_numbering": 1,
   "nav_menu": {},
   "number_sections": true,
   "sideBar": true,
   "skip_h1_title": false,
   "title_cell": "Table of Contents",
   "title_sidebar": "Contents",
   "toc_cell": false,
   "toc_position": {},
   "toc_section_display": true,
   "toc_window_display": false
  },
  "varInspector": {
   "cols": {
    "lenName": 16,
    "lenType": 16,
    "lenVar": 40
   },
   "kernels_config": {
    "python": {
     "delete_cmd_postfix": "",
     "delete_cmd_prefix": "del ",
     "library": "var_list.py",
     "varRefreshCmd": "print(var_dic_list())"
    },
    "r": {
     "delete_cmd_postfix": ") ",
     "delete_cmd_prefix": "rm(",
     "library": "var_list.r",
     "varRefreshCmd": "cat(var_dic_list()) "
    }
   },
   "types_to_exclude": [
    "module",
    "function",
    "builtin_function_or_method",
    "instance",
    "_Feature"
   ],
   "window_display": false
  }
 },
 "nbformat": 4,
 "nbformat_minor": 4
}
