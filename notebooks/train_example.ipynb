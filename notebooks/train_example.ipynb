{
 "cells": [
  {
   "cell_type": "code",
   "execution_count": 1,
   "metadata": {},
   "outputs": [],
   "source": [
    "from info_nas.datasets.networks.pretrained import pretrain_network_cifar\n",
    "from info_nas.datasets.networks.utils import load_nasbench\n",
    "from nasbench_pytorch.datasets.cifar10 import prepare_dataset"
   ]
  },
  {
   "cell_type": "code",
   "execution_count": 2,
   "metadata": {},
   "outputs": [
    {
     "name": "stdout",
     "output_type": "stream",
     "text": [
      "--- Preparing CIFAR10 Data ---\n",
      "Files already downloaded and verified\n",
      "Files already downloaded and verified\n",
      "--- CIFAR10 Data Prepared ---\n"
     ]
    }
   ],
   "source": [
    "seed = 42\n",
    "batch_size = 32\n",
    "num_workers = 8\n",
    "\n",
    "dataset = prepare_dataset(batch_size, root='../data/', validation_size=1000, random_state=seed,\n",
    "                          num_workers=num_workers)\n",
    "train, n_train, val, n_val, test, n_test = dataset"
   ]
  },
  {
   "cell_type": "code",
   "execution_count": 3,
   "metadata": {},
   "outputs": [
    {
     "name": "stdout",
     "output_type": "stream",
     "text": [
      "train:  49000\n",
      "validation:  1000\n",
      "test:  10000\n"
     ]
    }
   ],
   "source": [
    "print('train: ', n_train)\n",
    "print('validation: ', n_val)\n",
    "print('test: ', n_test)"
   ]
  },
  {
   "cell_type": "code",
   "execution_count": 4,
   "metadata": {},
   "outputs": [
    {
     "name": "stdout",
     "output_type": "stream",
     "text": [
      "Loading dataset from file... This may take a few minutes...\n",
      "WARNING:tensorflow:From /media/win_hdd/Gabi/Code/mff/ML/DP/nasbench/nasbench/api.py:146: tf_record_iterator (from tensorflow.python.lib.io.tf_record) is deprecated and will be removed in a future version.\n",
      "Instructions for updating:\n",
      "Use eager execution and: \n",
      "`tf.data.TFRecordDataset(path)`\n",
      "Loaded dataset in 33 seconds\n"
     ]
    }
   ],
   "source": [
    "nasbench_path = '/home/gabi/diplomka/nasbench/nasbench_only108.tfrecord'\n",
    "\n",
    "nb = load_nasbench(nasbench_path)"
   ]
  },
  {
   "cell_type": "code",
   "execution_count": 5,
   "metadata": {},
   "outputs": [],
   "source": [
    "nets = nb[:50]"
   ]
  },
  {
   "cell_type": "code",
   "execution_count": 6,
   "metadata": {},
   "outputs": [
    {
     "data": {
      "text/plain": [
       "('00005c142e6f48ac74fdcf73e3439874',\n",
       " ['input',\n",
       "  'conv3x3-bn-relu',\n",
       "  'maxpool3x3',\n",
       "  'conv3x3-bn-relu',\n",
       "  'conv3x3-bn-relu',\n",
       "  'conv1x1-bn-relu',\n",
       "  'output'],\n",
       " array([[0, 1, 0, 0, 1, 1, 0],\n",
       "        [0, 0, 1, 0, 0, 0, 0],\n",
       "        [0, 0, 0, 1, 0, 0, 1],\n",
       "        [0, 0, 0, 0, 0, 1, 0],\n",
       "        [0, 0, 0, 0, 0, 1, 0],\n",
       "        [0, 0, 0, 0, 0, 0, 1],\n",
       "        [0, 0, 0, 0, 0, 0, 0]], dtype=int8))"
      ]
     },
     "execution_count": 6,
     "metadata": {},
     "output_type": "execute_result"
    }
   ],
   "source": [
    "nets[0]"
   ]
  },
  {
   "cell_type": "code",
   "execution_count": 7,
   "metadata": {},
   "outputs": [],
   "source": [
    "from nasbench_pytorch.model import Network\n",
    "\n",
    "num_labels = 10\n",
    "\n",
    "def to_model(ops, mat):\n",
    "    return Network((mat, ops), num_labels)\n",
    "\n",
    "net_dict = {v[0]: to_model(v[1], v[2]) for v in nets}"
   ]
  },
  {
   "cell_type": "code",
   "execution_count": null,
   "metadata": {
    "scrolled": true
   },
   "outputs": [
    {
     "name": "stdout",
     "output_type": "stream",
     "text": [
      "24/05/2021 21:35:21\n",
      "--------------------\n",
      "Epoch=0/10 Batch=1/1532 | Loss=2.277, Acc=0.219(7/32)\n",
      "Epoch=0/10 Batch=101/1532 | Loss=2.266, Acc=0.182(588/3232)\n",
      "Epoch=0/10 Batch=201/1532 | Loss=2.132, Acc=0.225(1447/6432)\n",
      "Epoch=0/10 Batch=301/1532 | Loss=2.026, Acc=0.259(2491/9632)\n",
      "Epoch=0/10 Batch=401/1532 | Loss=1.933, Acc=0.289(3708/12832)\n",
      "Epoch=0/10 Batch=501/1532 | Loss=1.873, Acc=0.311(4978/16032)\n",
      "Epoch=0/10 Batch=601/1532 | Loss=1.820, Acc=0.330(6355/19232)\n",
      "Epoch=0/10 Batch=701/1532 | Loss=1.773, Acc=0.349(7835/22432)\n",
      "Epoch=0/10 Batch=801/1532 | Loss=1.732, Acc=0.365(9363/25632)\n",
      "Epoch=0/10 Batch=901/1532 | Loss=1.696, Acc=0.380(10955/28832)\n",
      "Epoch=0/10 Batch=1001/1532 | Loss=1.660, Acc=0.393(12595/32032)\n",
      "Epoch=0/10 Batch=1101/1532 | Loss=1.631, Acc=0.406(14297/35232)\n",
      "Epoch=0/10 Batch=1201/1532 | Loss=1.599, Acc=0.418(16052/38432)\n",
      "Epoch=0/10 Batch=1301/1532 | Loss=1.574, Acc=0.428(17808/41632)\n",
      "Epoch=0/10 Batch=1401/1532 | Loss=1.549, Acc=0.437(19602/44832)\n"
     ]
    }
   ],
   "source": [
    "import torch\n",
    "from info_nas.datasets.networks.utils import save_trained_net\n",
    "from datetime import datetime\n",
    "\n",
    "torch.backends.cudnn.benchmark = True\n",
    "device = torch.device('cuda')\n",
    "\n",
    "for net_hash, net in net_dict.items():\n",
    "    now = datetime.now()\n",
    "    print(now.strftime(\"%d/%m/%Y %H:%M:%S\\n--------------------\"))\n",
    "    \n",
    "    # train net and save it\n",
    "    net = net.to(device)\n",
    "    net, metrics = pretrain_network_cifar(net, train, val, test,\n",
    "                                          num_tests=n_test, num_epochs=10, device=device)\n",
    "    \n",
    "    save_trained_net(net_hash, net, info=metrics, net_args=[num_labels])"
   ]
  },
  {
   "cell_type": "code",
   "execution_count": null,
   "metadata": {},
   "outputs": [],
   "source": [
    "#jen 10 epochs for testing (108 trvá)\n",
    "#TODO později jako v paperu (např. RMSProp)"
   ]
  }
 ],
 "metadata": {
  "kernelspec": {
   "display_name": "pyt_conda",
   "language": "python",
   "name": "pyt_conda"
  },
  "language_info": {
   "codemirror_mode": {
    "name": "ipython",
    "version": 3
   },
   "file_extension": ".py",
   "mimetype": "text/x-python",
   "name": "python",
   "nbconvert_exporter": "python",
   "pygments_lexer": "ipython3",
   "version": "3.8.8"
  },
  "toc": {
   "base_numbering": 1,
   "nav_menu": {},
   "number_sections": true,
   "sideBar": true,
   "skip_h1_title": false,
   "title_cell": "Table of Contents",
   "title_sidebar": "Contents",
   "toc_cell": false,
   "toc_position": {},
   "toc_section_display": true,
   "toc_window_display": false
  },
  "varInspector": {
   "cols": {
    "lenName": 16,
    "lenType": 16,
    "lenVar": 40
   },
   "kernels_config": {
    "python": {
     "delete_cmd_postfix": "",
     "delete_cmd_prefix": "del ",
     "library": "var_list.py",
     "varRefreshCmd": "print(var_dic_list())"
    },
    "r": {
     "delete_cmd_postfix": ") ",
     "delete_cmd_prefix": "rm(",
     "library": "var_list.r",
     "varRefreshCmd": "cat(var_dic_list()) "
    }
   },
   "types_to_exclude": [
    "module",
    "function",
    "builtin_function_or_method",
    "instance",
    "_Feature"
   ],
   "window_display": false
  }
 },
 "nbformat": 4,
 "nbformat_minor": 4
}
