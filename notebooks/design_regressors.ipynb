{
 "cells": [
  {
   "cell_type": "code",
   "execution_count": 53,
   "metadata": {},
   "outputs": [],
   "source": [
    "dir_name = '/home/gabi/diplomka/results/with_ref_5/2021-20-07_23-26-03/final_250_results/'"
   ]
  },
  {
   "cell_type": "code",
   "execution_count": 54,
   "metadata": {
    "scrolled": true
   },
   "outputs": [
    {
     "data": {
      "text/plain": [
       "['gb_250_10_features_model_orig_epoch-29.pt',\n",
       " 'gb_250_10_features_model_ref_epoch-29.pt',\n",
       " 'gb_250_1_features_model_orig_epoch-29.pt',\n",
       " 'gb_250_1_features_model_ref_epoch-29.pt',\n",
       " 'gb_250_2_features_model_orig_epoch-29.pt',\n",
       " 'gb_250_2_features_model_ref_epoch-29.pt',\n",
       " 'gb_250_3_features_model_orig_epoch-29.pt',\n",
       " 'gb_250_3_features_model_ref_epoch-29.pt',\n",
       " 'gb_250_4_features_model_orig_epoch-29.pt',\n",
       " 'gb_250_4_features_model_ref_epoch-29.pt']"
      ]
     },
     "execution_count": 54,
     "metadata": {},
     "output_type": "execute_result"
    }
   ],
   "source": [
    "import os\n",
    "\n",
    "os.listdir(dir_name)[:10]"
   ]
  },
  {
   "cell_type": "code",
   "execution_count": 63,
   "metadata": {},
   "outputs": [],
   "source": [
    "def process_res_dict(path, seed, algo, model):\n",
    "    with open(os.path.join(path, 'Test features - validation accuracy_metrics.txt'), 'r') as f:\n",
    "        res_dict = {}\n",
    "        for l in f:\n",
    "            l = l.split(': ')\n",
    "            key = l[0]\n",
    "            val = l[1].replace('(', '').replace(')', '').split(', ')[0]\n",
    "\n",
    "            res_dict[key] = float(val)\n",
    "            \n",
    "        res_dict['seed'] = seed\n",
    "        res_dict['algo'] = algo\n",
    "        res_dict['model'] = model\n",
    "    \n",
    "    return res_dict"
   ]
  },
  {
   "cell_type": "code",
   "execution_count": 64,
   "metadata": {},
   "outputs": [],
   "source": [
    "import glob\n",
    "\n",
    "res_df = []\n",
    "\n",
    "for seed in range(1, 11):\n",
    "    for algo in ['gp', 'svr', 'rf', 'rf1000', 'gb']:\n",
    "        for model in ['ref', 'orig']:\n",
    "            p = os.path.join(dir_name, f'{algo}_250_{seed}_features_model_{model}_epoch-29.pt')\n",
    "\n",
    "            res = process_res_dict(p, seed, algo, model)\n",
    "            res_df.append(res)"
   ]
  },
  {
   "cell_type": "code",
   "execution_count": 65,
   "metadata": {},
   "outputs": [
    {
     "data": {
      "text/plain": [
       "100"
      ]
     },
     "execution_count": 65,
     "metadata": {},
     "output_type": "execute_result"
    }
   ],
   "source": [
    "len(res_df)"
   ]
  },
  {
   "cell_type": "code",
   "execution_count": 67,
   "metadata": {},
   "outputs": [
    {
     "name": "stdout",
     "output_type": "stream",
     "text": [
      "\\begin{tabular}{llrr}\n",
      "\\toprule\n",
      "    &     &  RMSE &  Pearson's r \\\\\n",
      "algo & model &       &              \\\\\n",
      "\\midrule\n",
      "gb & orig &  0.01 &         0.05 \\\\\n",
      "    & ref &  0.01 &         0.05 \\\\\n",
      "gp & orig &  0.02 &         0.09 \\\\\n",
      "    & ref &  0.02 &         0.09 \\\\\n",
      "rf & orig &  0.01 &         0.05 \\\\\n",
      "    & ref &  0.01 &         0.06 \\\\\n",
      "rf1000 & orig &  0.01 &         0.04 \\\\\n",
      "    & ref &  0.01 &         0.06 \\\\\n",
      "svr & orig &  0.01 &         0.13 \\\\\n",
      "    & ref &  0.01 &         0.05 \\\\\n",
      "\\bottomrule\n",
      "\\end{tabular}\n",
      "\n"
     ]
    }
   ],
   "source": [
    "import pandas as pd\n",
    "\n",
    "res_dfs = pd.DataFrame(res_df)\n",
    "results_table = res_dfs[['model', 'algo', 'RMSE', 'Pearson\\'s r']].groupby(\n",
    "    ['algo', 'model']).std().round(2)\n",
    "print(results_table.to_latex())"
   ]
  },
  {
   "cell_type": "code",
   "execution_count": null,
   "metadata": {},
   "outputs": [],
   "source": []
  }
 ],
 "metadata": {
  "kernelspec": {
   "display_name": "pyt_conda",
   "language": "python",
   "name": "pyt_conda"
  },
  "language_info": {
   "codemirror_mode": {
    "name": "ipython",
    "version": 3
   },
   "file_extension": ".py",
   "mimetype": "text/x-python",
   "name": "python",
   "nbconvert_exporter": "python",
   "pygments_lexer": "ipython3",
   "version": "3.8.10"
  },
  "toc": {
   "base_numbering": 1,
   "nav_menu": {},
   "number_sections": true,
   "sideBar": true,
   "skip_h1_title": false,
   "title_cell": "Table of Contents",
   "title_sidebar": "Contents",
   "toc_cell": false,
   "toc_position": {},
   "toc_section_display": true,
   "toc_window_display": false
  }
 },
 "nbformat": 4,
 "nbformat_minor": 4
}
