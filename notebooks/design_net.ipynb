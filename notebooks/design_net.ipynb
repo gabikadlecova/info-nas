{
 "cells": [
  {
   "cell_type": "code",
   "execution_count": 1,
   "metadata": {},
   "outputs": [],
   "source": [
    "seed=1"
   ]
  },
  {
   "cell_type": "code",
   "execution_count": 2,
   "metadata": {},
   "outputs": [
    {
     "data": {
      "text/plain": [
       "['.git',\n",
       " '.gitignore',\n",
       " '.idea',\n",
       " 'data',\n",
       " 'info_nas',\n",
       " 'info_nas.egg-info',\n",
       " 'LICENSE',\n",
       " 'notebooks',\n",
       " 'README.md',\n",
       " 'setup.py']"
      ]
     },
     "execution_count": 2,
     "metadata": {},
     "output_type": "execute_result"
    }
   ],
   "source": [
    "import os\n",
    "\n",
    "os.listdir('..')"
   ]
  },
  {
   "cell_type": "code",
   "execution_count": 3,
   "metadata": {},
   "outputs": [
    {
     "name": "stdout",
     "output_type": "stream",
     "text": [
      "Loading dataset from file... This may take a few minutes...\n",
      "WARNING:tensorflow:From /media/win_hdd/Gabi/Code/mff/ML/DP/nasbench/nasbench/api.py:146: tf_record_iterator (from tensorflow.python.lib.io.tf_record) is deprecated and will be removed in a future version.\n",
      "Instructions for updating:\n",
      "Use eager execution and: \n",
      "`tf.data.TFRecordDataset(path)`\n",
      "Loaded dataset in 33 seconds\n"
     ]
    }
   ],
   "source": [
    "from nasbench import api\n",
    "\n",
    "nasbench_path = '../data/nasbench_only108.tfrecord'\n",
    "nb = api.NASBench(nasbench_path)"
   ]
  },
  {
   "cell_type": "code",
   "execution_count": 4,
   "metadata": {},
   "outputs": [
    {
     "name": "stdout",
     "output_type": "stream",
     "text": [
      "Loading nasbench dataset (arch2vec) from ../data/nb_dataset.json\n",
      "Split the dataset (percent labeled = 1e-05) - 4/381261 labeled networks chosen from the train set, 1/42363 labeled networks chosen from the validation set.\n",
      "Processing labeled nets for the training set...\n",
      "Loading labeled dataset from ../data/train_labeled.pt.\n",
      "Processing labeled nets for the validation set...\n",
      "Loading labeled dataset from ../data/valid_labeled.pt.\n"
     ]
    }
   ],
   "source": [
    "import torch\n",
    "from info_nas.datasets.arch2vec_dataset import get_labeled_unlabeled_datasets\n",
    "\n",
    "#torch.backends.cudnn.benchmark = True\n",
    "#device = torch.device('cuda')\n",
    "data_device = torch.device('cpu')\n",
    "\n",
    "# device = None otherwise the dataset is save to the cuda as a whole\n",
    "labeled, unlabeled = get_labeled_unlabeled_datasets(nb, percent_labeled=0.00001, device=data_device,\n",
    "                                                    seed=seed)"
   ]
  },
  {
   "cell_type": "markdown",
   "metadata": {},
   "source": [
    "## Test dataset shapes"
   ]
  },
  {
   "cell_type": "code",
   "execution_count": 5,
   "metadata": {},
   "outputs": [
    {
     "data": {
      "text/plain": [
       "dict_keys(['train_io', 'train_net', 'valid_io', 'valid_net'])"
      ]
     },
     "execution_count": 5,
     "metadata": {},
     "output_type": "execute_result"
    }
   ],
   "source": [
    "labeled.keys()"
   ]
  },
  {
   "cell_type": "code",
   "execution_count": 6,
   "metadata": {},
   "outputs": [
    {
     "data": {
      "text/plain": [
       "[(4000,), torch.Size([4000, 128, 32, 32]), torch.Size([4000, 512, 8, 8])]"
      ]
     },
     "execution_count": 6,
     "metadata": {},
     "output_type": "execute_result"
    }
   ],
   "source": [
    "[l.shape for l in labeled['train_io']]"
   ]
  },
  {
   "cell_type": "code",
   "execution_count": 7,
   "metadata": {},
   "outputs": [
    {
     "data": {
      "text/plain": [
       "[torch.Size([4000, 7, 7]), torch.Size([4000, 7, 5])]"
      ]
     },
     "execution_count": 7,
     "metadata": {},
     "output_type": "execute_result"
    }
   ],
   "source": [
    "[l.shape for l in labeled['train_net']]"
   ]
  },
  {
   "cell_type": "code",
   "execution_count": 8,
   "metadata": {},
   "outputs": [
    {
     "data": {
      "text/plain": [
       "dict_keys(['train', 'n_train', 'val', 'n_val'])"
      ]
     },
     "execution_count": 8,
     "metadata": {},
     "output_type": "execute_result"
    }
   ],
   "source": [
    "unlabeled.keys()"
   ]
  },
  {
   "cell_type": "code",
   "execution_count": 9,
   "metadata": {},
   "outputs": [
    {
     "data": {
      "text/plain": [
       "(torch.Size([7, 7]), torch.Size([7, 5]))"
      ]
     },
     "execution_count": 9,
     "metadata": {},
     "output_type": "execute_result"
    }
   ],
   "source": [
    "unlabeled['train'][1][0].shape, unlabeled['train'][2][0].shape"
   ]
  },
  {
   "cell_type": "code",
   "execution_count": 10,
   "metadata": {},
   "outputs": [
    {
     "data": {
      "text/plain": [
       "381261"
      ]
     },
     "execution_count": 10,
     "metadata": {},
     "output_type": "execute_result"
    }
   ],
   "source": [
    "len(unlabeled['train'][1])"
   ]
  },
  {
   "cell_type": "markdown",
   "metadata": {},
   "source": [
    "## Test model shapes"
   ]
  },
  {
   "cell_type": "code",
   "execution_count": 4,
   "metadata": {},
   "outputs": [],
   "source": [
    "from arch2vec.extensions.get_nasbench101_model import get_arch2vec_model\n",
    "\n",
    "model, opt = get_arch2vec_model()"
   ]
  },
  {
   "cell_type": "code",
   "execution_count": 11,
   "metadata": {},
   "outputs": [],
   "source": [
    "from arch2vec.extensions.get_nasbench101_model import get_nasbench_datasets\n",
    "\n",
    "nb_dataset = get_nasbench_datasets('../data/nb_dataset.json', batch_size=None, seed=1)"
   ]
  },
  {
   "cell_type": "code",
   "execution_count": 23,
   "metadata": {},
   "outputs": [],
   "source": [
    "#model.train()\n",
    "model.eval()\n",
    "\n",
    "batch_adj, batch_ops = nb_dataset['train'][1][:32], nb_dataset['train'][2][:32]\n",
    "\n",
    "mu, logvar = model._encoder(batch_ops, batch_adj)\n",
    "z = model.reparameterize(mu, logvar)"
   ]
  },
  {
   "cell_type": "code",
   "execution_count": 25,
   "metadata": {},
   "outputs": [
    {
     "name": "stdout",
     "output_type": "stream",
     "text": [
      "mu shape: torch.Size([32, 7, 16]), logvar shape: torch.Size([32, 7, 16]), z shape: torch.Size([32, 7, 16])\n"
     ]
    }
   ],
   "source": [
    "print(f\"mu shape: {mu.shape}, logvar shape: {logvar.shape}, z shape: {z.shape}\")"
   ]
  },
  {
   "cell_type": "code",
   "execution_count": 34,
   "metadata": {},
   "outputs": [
    {
     "data": {
      "text/plain": [
       "torch.Size([32, 5])"
      ]
     },
     "execution_count": 34,
     "metadata": {},
     "output_type": "execute_result"
    }
   ],
   "source": [
    "import torch.nn as nn\n",
    "\n",
    "m = nn.Sequential(\n",
    "    nn.Flatten(),\n",
    "    nn.Linear(z.shape[1] * z.shape[2], 5),\n",
    "    nn.ReLU()\n",
    ")\n",
    "m(z).shape"
   ]
  },
  {
   "cell_type": "code",
   "execution_count": 43,
   "metadata": {},
   "outputs": [
    {
     "data": {
      "text/plain": [
       "torch.Size([1, 8, 7, 16])"
      ]
     },
     "execution_count": 43,
     "metadata": {},
     "output_type": "execute_result"
    }
   ],
   "source": [
    "# test unsqueeze and channels\n",
    "\n",
    "conv = nn.Conv2d(32, 8, 1, padding=0)\n",
    "conv(mu.unsqueeze(0)).shape"
   ]
  },
  {
   "cell_type": "code",
   "execution_count": 74,
   "metadata": {},
   "outputs": [
    {
     "name": "stdout",
     "output_type": "stream",
     "text": [
      "torch.Size([32, 7, 1])\n"
     ]
    },
    {
     "data": {
      "text/plain": [
       "torch.Size([32, 7, 17])"
      ]
     },
     "execution_count": 74,
     "metadata": {},
     "output_type": "execute_result"
    }
   ],
   "source": [
    "# repeat and concat\n",
    "repeated = torch.Tensor([3]).repeat(mu.shape[0], mu.shape[1], 1)\n",
    "print(repeated.shape)\n",
    "\n",
    "torch.cat([mu, repeated], axis=-1).shape"
   ]
  },
  {
   "cell_type": "markdown",
   "metadata": {},
   "source": [
    "## Extended models"
   ]
  },
  {
   "cell_type": "code",
   "execution_count": 5,
   "metadata": {},
   "outputs": [],
   "source": [
    "from arch2vec.extensions.get_nasbench101_model import get_arch2vec_model\n",
    "from arch2vec.extensions.get_nasbench101_model import get_nasbench_datasets\n",
    "\n",
    "model, opt = get_arch2vec_model(device=device)"
   ]
  },
  {
   "cell_type": "code",
   "execution_count": 6,
   "metadata": {},
   "outputs": [
    {
     "name": "stdout",
     "output_type": "stream",
     "text": [
      "torch.Size([4000, 128, 32, 32])\n",
      "torch.Size([4000, 512, 8, 8])\n"
     ]
    }
   ],
   "source": [
    "print(labeled['train_io']['inputs'].shape)\n",
    "print(labeled['train_io']['outputs'].shape)"
   ]
  },
  {
   "cell_type": "code",
   "execution_count": 7,
   "metadata": {},
   "outputs": [],
   "source": [
    "from info_nas.models.conv_embeddings import SimpleConvModel\n",
    "\n",
    "extended_model = SimpleConvModel(model, 128, 512).to(device)"
   ]
  },
  {
   "cell_type": "code",
   "execution_count": 8,
   "metadata": {},
   "outputs": [],
   "source": [
    "in_batch = labeled['train_io']['inputs'][:32]\n",
    "out_batch = labeled['train_io']['outputs'][:32]\n",
    "\n",
    "batch_adj, batch_ops = labeled['train_net'][0][:32], labeled['train_net'][1][:32]"
   ]
  },
  {
   "cell_type": "code",
   "execution_count": 9,
   "metadata": {
    "scrolled": true
   },
   "outputs": [],
   "source": [
    "ops_recon, adj_recon, mu, logvar, outputs = extended_model(batch_ops.to(device), batch_adj.to(device), in_batch.to(device))"
   ]
  },
  {
   "cell_type": "code",
   "execution_count": 10,
   "metadata": {},
   "outputs": [
    {
     "data": {
      "text/plain": [
       "torch.Size([32, 512, 8, 8])"
      ]
     },
     "execution_count": 10,
     "metadata": {},
     "output_type": "execute_result"
    }
   ],
   "source": [
    "outputs.shape"
   ]
  },
  {
   "cell_type": "markdown",
   "metadata": {
    "heading_collapsed": true
   },
   "source": [
    "### Just some tests"
   ]
  },
  {
   "cell_type": "code",
   "execution_count": null,
   "metadata": {
    "hidden": true
   },
   "outputs": [],
   "source": [
    "_,_,_,_,z = model(batch_ops.to(device), batch_adj.to(device))\n",
    "z = extended_model.process_z(z)\n",
    "z = z.unsqueeze(-1).unsqueeze(-1).repeat(1, 1, in_batch.shape[2], in_batch.shape[3])\n",
    "z.shape"
   ]
  },
  {
   "cell_type": "code",
   "execution_count": null,
   "metadata": {
    "hidden": true
   },
   "outputs": [],
   "source": [
    "torch.cat([z, in_batch], dim=1).shape"
   ]
  },
  {
   "cell_type": "markdown",
   "metadata": {},
   "source": [
    "## Training"
   ]
  },
  {
   "cell_type": "code",
   "execution_count": 6,
   "metadata": {},
   "outputs": [
    {
     "name": "stdout",
     "output_type": "stream",
     "text": [
      "epoch 0: batch 0 / 12040: loss: 4.45273\n",
      "epoch 0: labeled batches: 1, unlabeled batches: 0\n",
      "epoch 0: batch 1000 / 12040: loss: 0.52838\n",
      "epoch 0: labeled batches: 100, unlabeled batches: 901\n",
      "epoch 0: batch 2000 / 12040: loss: 0.43532\n",
      "epoch 0: labeled batches: 100, unlabeled batches: 1901\n",
      "epoch 0: batch 3000 / 12040: loss: 0.37327\n",
      "epoch 0: labeled batches: 100, unlabeled batches: 2901\n",
      "epoch 0: batch 4000 / 12040: loss: 0.34162\n",
      "epoch 0: labeled batches: 100, unlabeled batches: 3901\n",
      "epoch 0: batch 5000 / 12040: loss: 0.34020\n",
      "epoch 0: labeled batches: 100, unlabeled batches: 4901\n",
      "epoch 0: batch 6000 / 12040: loss: 0.31405\n",
      "epoch 0: labeled batches: 100, unlabeled batches: 5901\n",
      "epoch 0: batch 7000 / 12040: loss: 0.30694\n",
      "epoch 0: labeled batches: 100, unlabeled batches: 6901\n",
      "epoch 0: batch 8000 / 12040: loss: 0.25705\n",
      "epoch 0: labeled batches: 100, unlabeled batches: 7901\n",
      "epoch 0: batch 9000 / 12040: loss: 0.25581\n",
      "epoch 0: labeled batches: 100, unlabeled batches: 8901\n",
      "epoch 0: batch 10000 / 12040: loss: 0.25695\n",
      "epoch 0: labeled batches: 100, unlabeled batches: 9901\n",
      "epoch 0: batch 11000 / 12040: loss: 0.25452\n",
      "epoch 0: labeled batches: 100, unlabeled batches: 10901\n",
      "epoch 0: batch 12000 / 12040: loss: 0.24957\n",
      "epoch 0: labeled batches: 100, unlabeled batches: 11901\n",
      "Ratio of valid decodings from the prior: 0.5008\n",
      "Ratio of unique decodings from the prior: 0.9936\n",
      "validation set: acc_ops:89.2335, mean_corr_adj:91.4604, mean_fal_pos_adj:13.4395, acc_adj:92.5928\n",
      "epoch 0: average loss 0.35896\n",
      "epoch 1: batch 0 / 12040: loss: 0.57626\n",
      "epoch 1: labeled batches: 1, unlabeled batches: 0\n",
      "epoch 1: batch 1000 / 12040: loss: 0.24914\n",
      "epoch 1: labeled batches: 100, unlabeled batches: 901\n",
      "epoch 1: batch 2000 / 12040: loss: 0.25629\n",
      "epoch 1: labeled batches: 100, unlabeled batches: 1901\n",
      "epoch 1: batch 3000 / 12040: loss: 0.23966\n",
      "epoch 1: labeled batches: 100, unlabeled batches: 2901\n",
      "epoch 1: batch 4000 / 12040: loss: 0.25238\n",
      "epoch 1: labeled batches: 100, unlabeled batches: 3901\n",
      "epoch 1: batch 5000 / 12040: loss: 0.25453\n",
      "epoch 1: labeled batches: 100, unlabeled batches: 4901\n",
      "epoch 1: batch 6000 / 12040: loss: 0.25813\n",
      "epoch 1: labeled batches: 100, unlabeled batches: 5901\n",
      "epoch 1: batch 7000 / 12040: loss: 0.24190\n",
      "epoch 1: labeled batches: 100, unlabeled batches: 6901\n",
      "epoch 1: batch 8000 / 12040: loss: 0.24860\n",
      "epoch 1: labeled batches: 100, unlabeled batches: 7901\n",
      "epoch 1: batch 9000 / 12040: loss: 0.23465\n",
      "epoch 1: labeled batches: 100, unlabeled batches: 8901\n",
      "epoch 1: batch 10000 / 12040: loss: 0.25738\n",
      "epoch 1: labeled batches: 100, unlabeled batches: 9901\n",
      "epoch 1: batch 11000 / 12040: loss: 0.23823\n",
      "epoch 1: labeled batches: 100, unlabeled batches: 10901\n",
      "epoch 1: batch 12000 / 12040: loss: 0.24817\n",
      "epoch 1: labeled batches: 100, unlabeled batches: 11901\n",
      "Ratio of valid decodings from the prior: 0.4996\n",
      "Ratio of unique decodings from the prior: 0.9904\n",
      "validation set: acc_ops:92.8369, mean_corr_adj:88.6148, mean_fal_pos_adj:11.0288, acc_adj:92.9338\n",
      "epoch 1: average loss 0.25217\n",
      "epoch 2: batch 0 / 12040: loss: 0.58238\n",
      "epoch 2: labeled batches: 1, unlabeled batches: 0\n",
      "epoch 2: batch 1000 / 12040: loss: 0.23358\n",
      "epoch 2: labeled batches: 100, unlabeled batches: 901\n",
      "epoch 2: batch 2000 / 12040: loss: 0.21187\n",
      "epoch 2: labeled batches: 100, unlabeled batches: 1901\n",
      "epoch 2: batch 3000 / 12040: loss: 0.24479\n",
      "epoch 2: labeled batches: 100, unlabeled batches: 2901\n",
      "epoch 2: batch 4000 / 12040: loss: 0.22369\n",
      "epoch 2: labeled batches: 100, unlabeled batches: 3901\n",
      "epoch 2: batch 5000 / 12040: loss: 0.24617\n",
      "epoch 2: labeled batches: 100, unlabeled batches: 4901\n",
      "epoch 2: batch 6000 / 12040: loss: 0.26264\n",
      "epoch 2: labeled batches: 100, unlabeled batches: 5901\n",
      "epoch 2: batch 7000 / 12040: loss: 0.24618\n",
      "epoch 2: labeled batches: 100, unlabeled batches: 6901\n",
      "epoch 2: batch 8000 / 12040: loss: 0.23771\n",
      "epoch 2: labeled batches: 100, unlabeled batches: 7901\n",
      "epoch 2: batch 9000 / 12040: loss: 0.23656\n",
      "epoch 2: labeled batches: 100, unlabeled batches: 8901\n",
      "epoch 2: batch 10000 / 12040: loss: 0.23584\n",
      "epoch 2: labeled batches: 100, unlabeled batches: 9901\n",
      "epoch 2: batch 11000 / 12040: loss: 0.23432\n",
      "epoch 2: labeled batches: 100, unlabeled batches: 10901\n",
      "epoch 2: batch 12000 / 12040: loss: 0.21827\n",
      "epoch 2: labeled batches: 100, unlabeled batches: 11901\n",
      "Ratio of valid decodings from the prior: 0.5068\n",
      "Ratio of unique decodings from the prior: 0.9909\n",
      "validation set: acc_ops:94.9067, mean_corr_adj:92.3908, mean_fal_pos_adj:11.3468, acc_adj:93.9852\n",
      "epoch 2: average loss 0.24394\n",
      "epoch 3: batch 0 / 12040: loss: 0.61805\n",
      "epoch 3: labeled batches: 1, unlabeled batches: 0\n",
      "epoch 3: batch 1000 / 12040: loss: 0.23615\n",
      "epoch 3: labeled batches: 100, unlabeled batches: 901\n",
      "epoch 3: batch 2000 / 12040: loss: 0.24998\n",
      "epoch 3: labeled batches: 100, unlabeled batches: 1901\n",
      "epoch 3: batch 3000 / 12040: loss: 0.22341\n",
      "epoch 3: labeled batches: 100, unlabeled batches: 2901\n",
      "epoch 3: batch 4000 / 12040: loss: 0.23046\n",
      "epoch 3: labeled batches: 100, unlabeled batches: 3901\n",
      "epoch 3: batch 5000 / 12040: loss: 0.24317\n",
      "epoch 3: labeled batches: 100, unlabeled batches: 4901\n",
      "epoch 3: batch 6000 / 12040: loss: 0.23612\n",
      "epoch 3: labeled batches: 100, unlabeled batches: 5901\n",
      "epoch 3: batch 7000 / 12040: loss: 0.22703\n",
      "epoch 3: labeled batches: 100, unlabeled batches: 6901\n",
      "epoch 3: batch 8000 / 12040: loss: 0.23187\n",
      "epoch 3: labeled batches: 100, unlabeled batches: 7901\n",
      "epoch 3: batch 9000 / 12040: loss: 0.23187\n",
      "epoch 3: labeled batches: 100, unlabeled batches: 8901\n",
      "epoch 3: batch 10000 / 12040: loss: 0.21510\n",
      "epoch 3: labeled batches: 100, unlabeled batches: 9901\n",
      "epoch 3: batch 11000 / 12040: loss: 0.23994\n",
      "epoch 3: labeled batches: 100, unlabeled batches: 10901\n",
      "epoch 3: batch 12000 / 12040: loss: 0.23186\n",
      "epoch 3: labeled batches: 100, unlabeled batches: 11901\n",
      "Ratio of valid decodings from the prior: 0.4942\n",
      "Ratio of unique decodings from the prior: 0.9881\n",
      "validation set: acc_ops:96.4501, mean_corr_adj:92.0707, mean_fal_pos_adj:10.0127, acc_adj:95.2895\n",
      "epoch 3: average loss 0.23983\n",
      "epoch 4: batch 0 / 12040: loss: 0.63537\n",
      "epoch 4: labeled batches: 1, unlabeled batches: 0\n",
      "epoch 4: batch 1000 / 12040: loss: 0.22579\n",
      "epoch 4: labeled batches: 100, unlabeled batches: 901\n",
      "epoch 4: batch 2000 / 12040: loss: 0.23626\n",
      "epoch 4: labeled batches: 100, unlabeled batches: 1901\n",
      "epoch 4: batch 3000 / 12040: loss: 0.22311\n",
      "epoch 4: labeled batches: 100, unlabeled batches: 2901\n",
      "epoch 4: batch 4000 / 12040: loss: 0.22864\n",
      "epoch 4: labeled batches: 100, unlabeled batches: 3901\n",
      "epoch 4: batch 5000 / 12040: loss: 0.25796\n",
      "epoch 4: labeled batches: 100, unlabeled batches: 4901\n",
      "epoch 4: batch 6000 / 12040: loss: 0.25098\n",
      "epoch 4: labeled batches: 100, unlabeled batches: 5901\n",
      "epoch 4: batch 7000 / 12040: loss: 0.23814\n",
      "epoch 4: labeled batches: 100, unlabeled batches: 6901\n",
      "epoch 4: batch 8000 / 12040: loss: 0.24213\n",
      "epoch 4: labeled batches: 100, unlabeled batches: 7901\n",
      "epoch 4: batch 9000 / 12040: loss: 0.23015\n",
      "epoch 4: labeled batches: 100, unlabeled batches: 8901\n",
      "epoch 4: batch 10000 / 12040: loss: 0.24562\n",
      "epoch 4: labeled batches: 100, unlabeled batches: 9901\n",
      "epoch 4: batch 11000 / 12040: loss: 0.20402\n",
      "epoch 4: labeled batches: 100, unlabeled batches: 10901\n",
      "epoch 4: batch 12000 / 12040: loss: 0.25134\n",
      "epoch 4: labeled batches: 100, unlabeled batches: 11901\n",
      "Ratio of valid decodings from the prior: 0.4736\n",
      "Ratio of unique decodings from the prior: 0.9886\n",
      "validation set: acc_ops:96.5620, mean_corr_adj:93.7599, mean_fal_pos_adj:8.7863, acc_adj:95.9372\n",
      "epoch 4: average loss 0.23718\n",
      "epoch 5: batch 0 / 12040: loss: 0.61885\n",
      "epoch 5: labeled batches: 1, unlabeled batches: 0\n",
      "epoch 5: batch 1000 / 12040: loss: 0.21983\n",
      "epoch 5: labeled batches: 100, unlabeled batches: 901\n",
      "epoch 5: batch 2000 / 12040: loss: 0.23035\n",
      "epoch 5: labeled batches: 100, unlabeled batches: 1901\n",
      "epoch 5: batch 3000 / 12040: loss: 0.24552\n",
      "epoch 5: labeled batches: 100, unlabeled batches: 2901\n",
      "epoch 5: batch 4000 / 12040: loss: 0.23836\n",
      "epoch 5: labeled batches: 100, unlabeled batches: 3901\n",
      "epoch 5: batch 5000 / 12040: loss: 0.21732\n",
      "epoch 5: labeled batches: 100, unlabeled batches: 4901\n",
      "epoch 5: batch 6000 / 12040: loss: 0.23046\n",
      "epoch 5: labeled batches: 100, unlabeled batches: 5901\n",
      "epoch 5: batch 7000 / 12040: loss: 0.22934\n",
      "epoch 5: labeled batches: 100, unlabeled batches: 6901\n"
     ]
    },
    {
     "name": "stdout",
     "output_type": "stream",
     "text": [
      "epoch 5: batch 8000 / 12040: loss: 0.21803\n",
      "epoch 5: labeled batches: 100, unlabeled batches: 7901\n",
      "epoch 5: batch 9000 / 12040: loss: 0.23295\n",
      "epoch 5: labeled batches: 100, unlabeled batches: 8901\n",
      "epoch 5: batch 10000 / 12040: loss: 0.22239\n",
      "epoch 5: labeled batches: 100, unlabeled batches: 9901\n",
      "epoch 5: batch 11000 / 12040: loss: 0.25254\n",
      "epoch 5: labeled batches: 100, unlabeled batches: 10901\n",
      "epoch 5: batch 12000 / 12040: loss: 0.22176\n",
      "epoch 5: labeled batches: 100, unlabeled batches: 11901\n",
      "Ratio of valid decodings from the prior: 0.4758\n",
      "Ratio of unique decodings from the prior: 0.9891\n",
      "validation set: acc_ops:96.4623, mean_corr_adj:93.0655, mean_fal_pos_adj:8.8744, acc_adj:95.5599\n",
      "epoch 5: average loss 0.23573\n",
      "epoch 6: batch 0 / 12040: loss: 0.57729\n",
      "epoch 6: labeled batches: 1, unlabeled batches: 0\n",
      "epoch 6: batch 1000 / 12040: loss: 0.24431\n",
      "epoch 6: labeled batches: 100, unlabeled batches: 901\n",
      "epoch 6: batch 2000 / 12040: loss: 0.22061\n",
      "epoch 6: labeled batches: 100, unlabeled batches: 1901\n",
      "epoch 6: batch 3000 / 12040: loss: 0.23348\n",
      "epoch 6: labeled batches: 100, unlabeled batches: 2901\n",
      "epoch 6: batch 4000 / 12040: loss: 0.22294\n",
      "epoch 6: labeled batches: 100, unlabeled batches: 3901\n",
      "epoch 6: batch 5000 / 12040: loss: 0.20288\n",
      "epoch 6: labeled batches: 100, unlabeled batches: 4901\n",
      "epoch 6: batch 6000 / 12040: loss: 0.22513\n",
      "epoch 6: labeled batches: 100, unlabeled batches: 5901\n",
      "epoch 6: batch 7000 / 12040: loss: 0.23119\n",
      "epoch 6: labeled batches: 100, unlabeled batches: 6901\n",
      "epoch 6: batch 8000 / 12040: loss: 0.24014\n",
      "epoch 6: labeled batches: 100, unlabeled batches: 7901\n",
      "epoch 6: batch 9000 / 12040: loss: 0.24535\n",
      "epoch 6: labeled batches: 100, unlabeled batches: 8901\n",
      "epoch 6: batch 10000 / 12040: loss: 0.21173\n",
      "epoch 6: labeled batches: 100, unlabeled batches: 9901\n",
      "epoch 6: batch 11000 / 12040: loss: 0.24946\n",
      "epoch 6: labeled batches: 100, unlabeled batches: 10901\n",
      "epoch 6: batch 12000 / 12040: loss: 0.22622\n",
      "epoch 6: labeled batches: 100, unlabeled batches: 11901\n",
      "Ratio of valid decodings from the prior: 0.4730\n",
      "Ratio of unique decodings from the prior: 0.9905\n",
      "validation set: acc_ops:96.5320, mean_corr_adj:93.3285, mean_fal_pos_adj:8.4479, acc_adj:96.7047\n",
      "epoch 6: average loss 0.23433\n",
      "epoch 7: batch 0 / 12040: loss: 0.57926\n",
      "epoch 7: labeled batches: 1, unlabeled batches: 0\n",
      "epoch 7: batch 1000 / 12040: loss: 0.23441\n",
      "epoch 7: labeled batches: 100, unlabeled batches: 901\n",
      "epoch 7: batch 2000 / 12040: loss: 0.22573\n",
      "epoch 7: labeled batches: 100, unlabeled batches: 1901\n",
      "epoch 7: batch 3000 / 12040: loss: 0.22940\n",
      "epoch 7: labeled batches: 100, unlabeled batches: 2901\n",
      "epoch 7: batch 4000 / 12040: loss: 0.23580\n",
      "epoch 7: labeled batches: 100, unlabeled batches: 3901\n",
      "epoch 7: batch 5000 / 12040: loss: 0.20789\n",
      "epoch 7: labeled batches: 100, unlabeled batches: 4901\n",
      "epoch 7: batch 6000 / 12040: loss: 0.23300\n",
      "epoch 7: labeled batches: 100, unlabeled batches: 5901\n",
      "epoch 7: batch 7000 / 12040: loss: 0.22567\n",
      "epoch 7: labeled batches: 100, unlabeled batches: 6901\n",
      "epoch 7: batch 8000 / 12040: loss: 0.22761\n",
      "epoch 7: labeled batches: 100, unlabeled batches: 7901\n",
      "epoch 7: batch 9000 / 12040: loss: 0.22597\n",
      "epoch 7: labeled batches: 100, unlabeled batches: 8901\n",
      "epoch 7: batch 10000 / 12040: loss: 0.23438\n",
      "epoch 7: labeled batches: 100, unlabeled batches: 9901\n",
      "epoch 7: batch 11000 / 12040: loss: 0.21194\n",
      "epoch 7: labeled batches: 100, unlabeled batches: 10901\n",
      "epoch 7: batch 12000 / 12040: loss: 0.21223\n",
      "epoch 7: labeled batches: 100, unlabeled batches: 11901\n",
      "Ratio of valid decodings from the prior: 0.4620\n",
      "Ratio of unique decodings from the prior: 0.9905\n",
      "validation set: acc_ops:97.3133, mean_corr_adj:93.9346, mean_fal_pos_adj:6.9245, acc_adj:97.4428\n",
      "epoch 7: average loss 0.23340\n",
      "loss for epochs: \n",
      " [0.3589565844123447, 0.25216519603400533, 0.2439419916338996, 0.23983248870114354, 0.23718091727936783, 0.23572548712384067, 0.23433247110574348, 0.2333987672042807]\n"
     ]
    }
   ],
   "source": [
    "import torch\n",
    "from info_nas.trainer import train\n",
    "\n",
    "if torch.cuda.is_available():\n",
    "    torch.backends.cudnn.benchmark = True\n",
    "    device = torch.device('cuda')\n",
    "else:\n",
    "    device = None\n",
    "    \n",
    "model = train(labeled, unlabeled, nb, device=device, n_workers=4, n_val_workers=4, k=100)"
   ]
  },
  {
   "cell_type": "code",
   "execution_count": null,
   "metadata": {},
   "outputs": [],
   "source": []
  }
 ],
 "metadata": {
  "kernelspec": {
   "display_name": "pyt_conda",
   "language": "python",
   "name": "pyt_conda"
  },
  "language_info": {
   "codemirror_mode": {
    "name": "ipython",
    "version": 3
   },
   "file_extension": ".py",
   "mimetype": "text/x-python",
   "name": "python",
   "nbconvert_exporter": "python",
   "pygments_lexer": "ipython3",
   "version": "3.8.8"
  },
  "toc": {
   "base_numbering": 1,
   "nav_menu": {},
   "number_sections": true,
   "sideBar": true,
   "skip_h1_title": false,
   "title_cell": "Table of Contents",
   "title_sidebar": "Contents",
   "toc_cell": false,
   "toc_position": {},
   "toc_section_display": true,
   "toc_window_display": false
  },
  "varInspector": {
   "cols": {
    "lenName": 16,
    "lenType": 16,
    "lenVar": 40
   },
   "kernels_config": {
    "python": {
     "delete_cmd_postfix": "",
     "delete_cmd_prefix": "del ",
     "library": "var_list.py",
     "varRefreshCmd": "print(var_dic_list())"
    },
    "r": {
     "delete_cmd_postfix": ") ",
     "delete_cmd_prefix": "rm(",
     "library": "var_list.r",
     "varRefreshCmd": "cat(var_dic_list()) "
    }
   },
   "types_to_exclude": [
    "module",
    "function",
    "builtin_function_or_method",
    "instance",
    "_Feature"
   ],
   "window_display": false
  }
 },
 "nbformat": 4,
 "nbformat_minor": 4
}
