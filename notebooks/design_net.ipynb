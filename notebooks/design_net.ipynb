{
 "cells": [
  {
   "cell_type": "code",
   "execution_count": 1,
   "metadata": {},
   "outputs": [],
   "source": [
    "seed=1"
   ]
  },
  {
   "cell_type": "code",
   "execution_count": 3,
   "metadata": {},
   "outputs": [
    {
     "data": {
      "text/plain": [
       "['.git',\n",
       " '.gitignore',\n",
       " '.idea',\n",
       " 'data',\n",
       " 'info_nas',\n",
       " 'info_nas.egg-info',\n",
       " 'LICENSE',\n",
       " 'notebooks',\n",
       " 'README.md',\n",
       " 'setup.py']"
      ]
     },
     "execution_count": 3,
     "metadata": {},
     "output_type": "execute_result"
    }
   ],
   "source": [
    "import os\n",
    "\n",
    "os.listdir('..')"
   ]
  },
  {
   "cell_type": "code",
   "execution_count": 4,
   "metadata": {},
   "outputs": [
    {
     "name": "stdout",
     "output_type": "stream",
     "text": [
      "Loading dataset from file... This may take a few minutes...\n",
      "WARNING:tensorflow:From /media/win_hdd/Gabi/Code/mff/ML/DP/nasbench/nasbench/api.py:146: tf_record_iterator (from tensorflow.python.lib.io.tf_record) is deprecated and will be removed in a future version.\n",
      "Instructions for updating:\n",
      "Use eager execution and: \n",
      "`tf.data.TFRecordDataset(path)`\n",
      "Loaded dataset in 33 seconds\n"
     ]
    }
   ],
   "source": [
    "from nasbench import api\n",
    "\n",
    "nasbench_path = '../data/nasbench_only108.tfrecord'\n",
    "nb = api.NASBench(nasbench_path)"
   ]
  },
  {
   "cell_type": "code",
   "execution_count": 5,
   "metadata": {},
   "outputs": [
    {
     "name": "stdout",
     "output_type": "stream",
     "text": [
      "Loading nasbench dataset (arch2vec) from ../data/nb_dataset.json\n",
      "Split the dataset (percent labeled = 1e-05) - 4/381261 labeled networks chosen from the train set, 1/42363 labeled networks chosen from the validation set.\n",
      "Processing labeled nets for the training set...\n",
      "Loading labeled dataset from ../data/train_labeled.pt.\n",
      "Processing labeled nets for the validation set...\n",
      "Loading labeled dataset from ../data/valid_labeled.pt.\n"
     ]
    }
   ],
   "source": [
    "import torch\n",
    "from info_nas.datasets.arch2vec_dataset import get_labeled_unlabeled_datasets\n",
    "\n",
    "#torch.backends.cudnn.benchmark = True\n",
    "#device = torch.device('cuda')\n",
    "data_device = torch.device('cpu')\n",
    "\n",
    "# device = None otherwise the dataset is save to the cuda as a whole\n",
    "labeled, unlabeled = get_labeled_unlabeled_datasets(nb, percent_labeled=0.00001, device=data_device,\n",
    "                                                    seed=seed)"
   ]
  },
  {
   "cell_type": "markdown",
   "metadata": {},
   "source": [
    "## Test dataset shapes"
   ]
  },
  {
   "cell_type": "code",
   "execution_count": 5,
   "metadata": {},
   "outputs": [
    {
     "data": {
      "text/plain": [
       "dict_keys(['train_io', 'train_net', 'valid_io', 'valid_net'])"
      ]
     },
     "execution_count": 5,
     "metadata": {},
     "output_type": "execute_result"
    }
   ],
   "source": [
    "labeled.keys()"
   ]
  },
  {
   "cell_type": "code",
   "execution_count": 6,
   "metadata": {},
   "outputs": [
    {
     "data": {
      "text/plain": [
       "[(4000,), torch.Size([4000, 128, 32, 32]), torch.Size([4000, 512, 8, 8])]"
      ]
     },
     "execution_count": 6,
     "metadata": {},
     "output_type": "execute_result"
    }
   ],
   "source": [
    "[l.shape for l in labeled['train_io']]"
   ]
  },
  {
   "cell_type": "code",
   "execution_count": 7,
   "metadata": {},
   "outputs": [
    {
     "data": {
      "text/plain": [
       "[torch.Size([4000, 7, 7]), torch.Size([4000, 7, 5])]"
      ]
     },
     "execution_count": 7,
     "metadata": {},
     "output_type": "execute_result"
    }
   ],
   "source": [
    "[l.shape for l in labeled['train_net']]"
   ]
  },
  {
   "cell_type": "code",
   "execution_count": 8,
   "metadata": {},
   "outputs": [
    {
     "data": {
      "text/plain": [
       "dict_keys(['train', 'n_train', 'val', 'n_val'])"
      ]
     },
     "execution_count": 8,
     "metadata": {},
     "output_type": "execute_result"
    }
   ],
   "source": [
    "unlabeled.keys()"
   ]
  },
  {
   "cell_type": "code",
   "execution_count": 9,
   "metadata": {},
   "outputs": [
    {
     "data": {
      "text/plain": [
       "(torch.Size([7, 7]), torch.Size([7, 5]))"
      ]
     },
     "execution_count": 9,
     "metadata": {},
     "output_type": "execute_result"
    }
   ],
   "source": [
    "unlabeled['train'][1][0].shape, unlabeled['train'][2][0].shape"
   ]
  },
  {
   "cell_type": "code",
   "execution_count": 10,
   "metadata": {},
   "outputs": [
    {
     "data": {
      "text/plain": [
       "381261"
      ]
     },
     "execution_count": 10,
     "metadata": {},
     "output_type": "execute_result"
    }
   ],
   "source": [
    "len(unlabeled['train'][1])"
   ]
  },
  {
   "cell_type": "markdown",
   "metadata": {},
   "source": [
    "## Test model shapes"
   ]
  },
  {
   "cell_type": "code",
   "execution_count": 4,
   "metadata": {},
   "outputs": [],
   "source": [
    "from arch2vec.extensions.get_nasbench101_model import get_arch2vec_model\n",
    "\n",
    "model, opt = get_arch2vec_model()"
   ]
  },
  {
   "cell_type": "code",
   "execution_count": 11,
   "metadata": {},
   "outputs": [],
   "source": [
    "from arch2vec.extensions.get_nasbench101_model import get_nasbench_datasets\n",
    "\n",
    "nb_dataset = get_nasbench_datasets('../data/nb_dataset.json', batch_size=None, seed=1)"
   ]
  },
  {
   "cell_type": "code",
   "execution_count": 23,
   "metadata": {},
   "outputs": [],
   "source": [
    "#model.train()\n",
    "model.eval()\n",
    "\n",
    "batch_adj, batch_ops = nb_dataset['train'][1][:32], nb_dataset['train'][2][:32]\n",
    "\n",
    "mu, logvar = model._encoder(batch_ops, batch_adj)\n",
    "z = model.reparameterize(mu, logvar)"
   ]
  },
  {
   "cell_type": "code",
   "execution_count": 25,
   "metadata": {},
   "outputs": [
    {
     "name": "stdout",
     "output_type": "stream",
     "text": [
      "mu shape: torch.Size([32, 7, 16]), logvar shape: torch.Size([32, 7, 16]), z shape: torch.Size([32, 7, 16])\n"
     ]
    }
   ],
   "source": [
    "print(f\"mu shape: {mu.shape}, logvar shape: {logvar.shape}, z shape: {z.shape}\")"
   ]
  },
  {
   "cell_type": "code",
   "execution_count": 34,
   "metadata": {},
   "outputs": [
    {
     "data": {
      "text/plain": [
       "torch.Size([32, 5])"
      ]
     },
     "execution_count": 34,
     "metadata": {},
     "output_type": "execute_result"
    }
   ],
   "source": [
    "import torch.nn as nn\n",
    "\n",
    "m = nn.Sequential(\n",
    "    nn.Flatten(),\n",
    "    nn.Linear(z.shape[1] * z.shape[2], 5),\n",
    "    nn.ReLU()\n",
    ")\n",
    "m(z).shape"
   ]
  },
  {
   "cell_type": "code",
   "execution_count": 43,
   "metadata": {},
   "outputs": [
    {
     "data": {
      "text/plain": [
       "torch.Size([1, 8, 7, 16])"
      ]
     },
     "execution_count": 43,
     "metadata": {},
     "output_type": "execute_result"
    }
   ],
   "source": [
    "# test unsqueeze and channels\n",
    "\n",
    "conv = nn.Conv2d(32, 8, 1, padding=0)\n",
    "conv(mu.unsqueeze(0)).shape"
   ]
  },
  {
   "cell_type": "code",
   "execution_count": 74,
   "metadata": {},
   "outputs": [
    {
     "name": "stdout",
     "output_type": "stream",
     "text": [
      "torch.Size([32, 7, 1])\n"
     ]
    },
    {
     "data": {
      "text/plain": [
       "torch.Size([32, 7, 17])"
      ]
     },
     "execution_count": 74,
     "metadata": {},
     "output_type": "execute_result"
    }
   ],
   "source": [
    "# repeat and concat\n",
    "repeated = torch.Tensor([3]).repeat(mu.shape[0], mu.shape[1], 1)\n",
    "print(repeated.shape)\n",
    "\n",
    "torch.cat([mu, repeated], axis=-1).shape"
   ]
  },
  {
   "cell_type": "markdown",
   "metadata": {},
   "source": [
    "## Extended models"
   ]
  },
  {
   "cell_type": "code",
   "execution_count": 5,
   "metadata": {},
   "outputs": [],
   "source": [
    "from arch2vec.extensions.get_nasbench101_model import get_arch2vec_model\n",
    "from arch2vec.extensions.get_nasbench101_model import get_nasbench_datasets\n",
    "\n",
    "model, opt = get_arch2vec_model(device=device)"
   ]
  },
  {
   "cell_type": "code",
   "execution_count": 6,
   "metadata": {},
   "outputs": [
    {
     "name": "stdout",
     "output_type": "stream",
     "text": [
      "torch.Size([4000, 128, 32, 32])\n",
      "torch.Size([4000, 512, 8, 8])\n"
     ]
    }
   ],
   "source": [
    "print(labeled['train_io']['inputs'].shape)\n",
    "print(labeled['train_io']['outputs'].shape)"
   ]
  },
  {
   "cell_type": "code",
   "execution_count": 7,
   "metadata": {},
   "outputs": [],
   "source": [
    "from info_nas.models.conv_embeddings import SimpleConvModel\n",
    "\n",
    "extended_model = SimpleConvModel(model, 128, 512).to(device)"
   ]
  },
  {
   "cell_type": "code",
   "execution_count": 8,
   "metadata": {},
   "outputs": [],
   "source": [
    "in_batch = labeled['train_io']['inputs'][:32]\n",
    "out_batch = labeled['train_io']['outputs'][:32]\n",
    "\n",
    "batch_adj, batch_ops = labeled['train_net'][0][:32], labeled['train_net'][1][:32]"
   ]
  },
  {
   "cell_type": "code",
   "execution_count": 9,
   "metadata": {
    "scrolled": true
   },
   "outputs": [],
   "source": [
    "ops_recon, adj_recon, mu, logvar, outputs = extended_model(batch_ops.to(device), batch_adj.to(device), in_batch.to(device))"
   ]
  },
  {
   "cell_type": "code",
   "execution_count": 10,
   "metadata": {},
   "outputs": [
    {
     "data": {
      "text/plain": [
       "torch.Size([32, 512, 8, 8])"
      ]
     },
     "execution_count": 10,
     "metadata": {},
     "output_type": "execute_result"
    }
   ],
   "source": [
    "outputs.shape"
   ]
  },
  {
   "cell_type": "markdown",
   "metadata": {
    "heading_collapsed": true
   },
   "source": [
    "### Just some tests"
   ]
  },
  {
   "cell_type": "code",
   "execution_count": null,
   "metadata": {
    "hidden": true
   },
   "outputs": [],
   "source": [
    "_,_,_,_,z = model(batch_ops.to(device), batch_adj.to(device))\n",
    "z = extended_model.process_z(z)\n",
    "z = z.unsqueeze(-1).unsqueeze(-1).repeat(1, 1, in_batch.shape[2], in_batch.shape[3])\n",
    "z.shape"
   ]
  },
  {
   "cell_type": "code",
   "execution_count": null,
   "metadata": {
    "hidden": true
   },
   "outputs": [],
   "source": [
    "torch.cat([z, in_batch], dim=1).shape"
   ]
  },
  {
   "cell_type": "markdown",
   "metadata": {},
   "source": [
    "## Training"
   ]
  },
  {
   "cell_type": "code",
   "execution_count": 7,
   "metadata": {
    "scrolled": true
   },
   "outputs": [
    {
     "name": "stderr",
     "output_type": "stream",
     "text": [
      "/media/win_hdd/Gabi/Code/mff/ML/DP/code/info-nas/info_nas/datasets/io/semi_dataset.py:79: UserWarning: The number of labeled nets is less than the batch size (4 vs 32).\n",
      "  warnings.warn(f\"The number of labeled nets is less than the batch size ({n_labeled_orig} vs {batch_size}).\")\n"
     ]
    },
    {
     "name": "stdout",
     "output_type": "stream",
     "text": [
      "epoch 0: batch 0 / 12040: loss: 4.37618, loss_labeled: 0.24466\n",
      "epoch 0: labeled batches: 1, unlabeled batches: 0\n",
      "epoch 0: batch 1000 / 12040: loss: 0.54729, loss_labeled: 0.24448\n",
      "epoch 0: labeled batches: 100, unlabeled batches: 901\n",
      "epoch 0: batch 2000 / 12040: loss: 0.42470, loss_labeled: 0.24448\n",
      "epoch 0: labeled batches: 100, unlabeled batches: 1901\n",
      "epoch 0: batch 3000 / 12040: loss: 0.39278, loss_labeled: 0.24448\n",
      "epoch 0: labeled batches: 100, unlabeled batches: 2901\n",
      "epoch 0: batch 4000 / 12040: loss: 0.33851, loss_labeled: 0.24448\n",
      "epoch 0: labeled batches: 100, unlabeled batches: 3901\n",
      "epoch 0: batch 5000 / 12040: loss: 0.32461, loss_labeled: 0.24448\n",
      "epoch 0: labeled batches: 100, unlabeled batches: 4901\n",
      "epoch 0: batch 6000 / 12040: loss: 0.32007, loss_labeled: 0.24448\n",
      "epoch 0: labeled batches: 100, unlabeled batches: 5901\n",
      "epoch 0: batch 7000 / 12040: loss: 0.32558, loss_labeled: 0.24448\n",
      "epoch 0: labeled batches: 100, unlabeled batches: 6901\n",
      "epoch 0: batch 8000 / 12040: loss: 0.29245, loss_labeled: 0.24448\n",
      "epoch 0: labeled batches: 100, unlabeled batches: 7901\n",
      "epoch 0: batch 9000 / 12040: loss: 0.27541, loss_labeled: 0.24448\n",
      "epoch 0: labeled batches: 100, unlabeled batches: 8901\n",
      "epoch 0: batch 10000 / 12040: loss: 0.27970, loss_labeled: 0.24448\n",
      "epoch 0: labeled batches: 100, unlabeled batches: 9901\n",
      "epoch 0: batch 11000 / 12040: loss: 0.26521, loss_labeled: 0.24448\n",
      "epoch 0: labeled batches: 100, unlabeled batches: 10901\n",
      "epoch 0: batch 12000 / 12040: loss: 0.28830, loss_labeled: 0.24448\n",
      "epoch 0: labeled batches: 100, unlabeled batches: 11901\n",
      "Ratio of valid decodings from the prior: 0.4752\n",
      "Ratio of unique decodings from the prior: 0.9920\n",
      "validation set: acc_ops:79.0495, mean_corr_adj:92.3885, mean_fal_pos_adj:14.5366, acc_adj:92.2496\n",
      "epoch 0: average loss 0.36821\n",
      "epoch 1: batch 0 / 12040: loss: 0.52014, loss_labeled: 0.24544\n",
      "epoch 1: labeled batches: 1, unlabeled batches: 0\n",
      "epoch 1: batch 1000 / 12040: loss: 0.25502, loss_labeled: 0.24306\n",
      "epoch 1: labeled batches: 100, unlabeled batches: 901\n",
      "epoch 1: batch 2000 / 12040: loss: 0.26598, loss_labeled: 0.24306\n",
      "epoch 1: labeled batches: 100, unlabeled batches: 1901\n",
      "epoch 1: batch 3000 / 12040: loss: 0.26872, loss_labeled: 0.24306\n",
      "epoch 1: labeled batches: 100, unlabeled batches: 2901\n",
      "epoch 1: batch 4000 / 12040: loss: 0.27434, loss_labeled: 0.24306\n",
      "epoch 1: labeled batches: 100, unlabeled batches: 3901\n",
      "epoch 1: batch 5000 / 12040: loss: 0.24588, loss_labeled: 0.24306\n",
      "epoch 1: labeled batches: 100, unlabeled batches: 4901\n",
      "epoch 1: batch 6000 / 12040: loss: 0.25958, loss_labeled: 0.24306\n",
      "epoch 1: labeled batches: 100, unlabeled batches: 5901\n",
      "epoch 1: batch 7000 / 12040: loss: 0.25745, loss_labeled: 0.24306\n",
      "epoch 1: labeled batches: 100, unlabeled batches: 6901\n",
      "epoch 1: batch 8000 / 12040: loss: 0.25494, loss_labeled: 0.24306\n",
      "epoch 1: labeled batches: 100, unlabeled batches: 7901\n",
      "epoch 1: batch 9000 / 12040: loss: 0.25530, loss_labeled: 0.24306\n",
      "epoch 1: labeled batches: 100, unlabeled batches: 8901\n",
      "epoch 1: batch 10000 / 12040: loss: 0.27415, loss_labeled: 0.24306\n",
      "epoch 1: labeled batches: 100, unlabeled batches: 9901\n",
      "epoch 1: batch 11000 / 12040: loss: 0.21635, loss_labeled: 0.24306\n",
      "epoch 1: labeled batches: 100, unlabeled batches: 10901\n",
      "epoch 1: batch 12000 / 12040: loss: 0.24541, loss_labeled: 0.24306\n",
      "epoch 1: labeled batches: 100, unlabeled batches: 11901\n",
      "Ratio of valid decodings from the prior: 0.4753\n",
      "Ratio of unique decodings from the prior: 0.9901\n",
      "validation set: acc_ops:84.2790, mean_corr_adj:93.4105, mean_fal_pos_adj:13.6938, acc_adj:93.0971\n",
      "epoch 1: average loss 0.25744\n",
      "epoch 2: batch 0 / 12040: loss: 0.51028, loss_labeled: 0.24439\n",
      "epoch 2: labeled batches: 1, unlabeled batches: 0\n",
      "epoch 2: batch 1000 / 12040: loss: 0.24592, loss_labeled: 0.24531\n",
      "epoch 2: labeled batches: 100, unlabeled batches: 901\n",
      "epoch 2: batch 2000 / 12040: loss: 0.23513, loss_labeled: 0.24531\n",
      "epoch 2: labeled batches: 100, unlabeled batches: 1901\n",
      "epoch 2: batch 3000 / 12040: loss: 0.24563, loss_labeled: 0.24531\n",
      "epoch 2: labeled batches: 100, unlabeled batches: 2901\n",
      "epoch 2: batch 4000 / 12040: loss: 0.23384, loss_labeled: 0.24531\n",
      "epoch 2: labeled batches: 100, unlabeled batches: 3901\n",
      "epoch 2: batch 5000 / 12040: loss: 0.23282, loss_labeled: 0.24531\n",
      "epoch 2: labeled batches: 100, unlabeled batches: 4901\n",
      "epoch 2: batch 6000 / 12040: loss: 0.25751, loss_labeled: 0.24531\n",
      "epoch 2: labeled batches: 100, unlabeled batches: 5901\n",
      "epoch 2: batch 7000 / 12040: loss: 0.25178, loss_labeled: 0.24531\n",
      "epoch 2: labeled batches: 100, unlabeled batches: 6901\n",
      "epoch 2: batch 8000 / 12040: loss: 0.23946, loss_labeled: 0.24531\n",
      "epoch 2: labeled batches: 100, unlabeled batches: 7901\n",
      "epoch 2: batch 9000 / 12040: loss: 0.24973, loss_labeled: 0.24531\n",
      "epoch 2: labeled batches: 100, unlabeled batches: 8901\n"
     ]
    },
    {
     "ename": "KeyboardInterrupt",
     "evalue": "",
     "output_type": "error",
     "traceback": [
      "\u001b[0;31m---------------------------------------------------------------------------\u001b[0m",
      "\u001b[0;31mKeyboardInterrupt\u001b[0m                         Traceback (most recent call last)",
      "\u001b[0;32m<ipython-input-7-58080d7b3847>\u001b[0m in \u001b[0;36m<module>\u001b[0;34m\u001b[0m\n\u001b[1;32m      8\u001b[0m     \u001b[0mdevice\u001b[0m \u001b[0;34m=\u001b[0m \u001b[0;32mNone\u001b[0m\u001b[0;34m\u001b[0m\u001b[0;34m\u001b[0m\u001b[0m\n\u001b[1;32m      9\u001b[0m \u001b[0;34m\u001b[0m\u001b[0m\n\u001b[0;32m---> 10\u001b[0;31m \u001b[0mmodel\u001b[0m \u001b[0;34m=\u001b[0m \u001b[0mtrain\u001b[0m\u001b[0;34m(\u001b[0m\u001b[0mlabeled_2\u001b[0m\u001b[0;34m,\u001b[0m \u001b[0munlabeled\u001b[0m\u001b[0;34m,\u001b[0m \u001b[0mnb\u001b[0m\u001b[0;34m,\u001b[0m \u001b[0mdevice\u001b[0m\u001b[0;34m=\u001b[0m\u001b[0mdevice\u001b[0m\u001b[0;34m,\u001b[0m \u001b[0mn_workers\u001b[0m\u001b[0;34m=\u001b[0m\u001b[0;36m4\u001b[0m\u001b[0;34m,\u001b[0m \u001b[0mn_val_workers\u001b[0m\u001b[0;34m=\u001b[0m\u001b[0;36m4\u001b[0m\u001b[0;34m,\u001b[0m \u001b[0mk\u001b[0m\u001b[0;34m=\u001b[0m\u001b[0;36m100\u001b[0m\u001b[0;34m)\u001b[0m\u001b[0;34m\u001b[0m\u001b[0;34m\u001b[0m\u001b[0m\n\u001b[0m",
      "\u001b[0;32m/media/win_hdd/Gabi/Code/mff/ML/DP/code/info-nas/info_nas/trainer.py\u001b[0m in \u001b[0;36mtrain\u001b[0;34m(labeled, unlabeled, nasbench, device, batch_size, k, n_workers, n_val_workers, seed, epochs, config, print_frequency, torch_deterministic, cudnn_deterministic, verbosity)\u001b[0m\n\u001b[1;32m     81\u001b[0m                 \u001b[0;32mraise\u001b[0m \u001b[0mValueError\u001b[0m\u001b[0;34m(\u001b[0m\u001b[0;34mf\"Invalid dataset - batch has {len(batch)} items, supported is 2 or 4.\"\u001b[0m\u001b[0;34m)\u001b[0m\u001b[0;34m\u001b[0m\u001b[0;34m\u001b[0m\u001b[0m\n\u001b[1;32m     82\u001b[0m \u001b[0;34m\u001b[0m\u001b[0m\n\u001b[0;32m---> 83\u001b[0;31m             \u001b[0moptimizer\u001b[0m\u001b[0;34m.\u001b[0m\u001b[0mzero_grad\u001b[0m\u001b[0;34m(\u001b[0m\u001b[0;34m)\u001b[0m\u001b[0;34m\u001b[0m\u001b[0;34m\u001b[0m\u001b[0m\n\u001b[0m\u001b[1;32m     84\u001b[0m \u001b[0;34m\u001b[0m\u001b[0m\n\u001b[1;32m     85\u001b[0m             \u001b[0;31m# preprocessing\u001b[0m\u001b[0;34m\u001b[0m\u001b[0;34m\u001b[0m\u001b[0;34m\u001b[0m\u001b[0m\n",
      "\u001b[0;32m~/anaconda3/envs/pyt/lib/python3.8/site-packages/torch/optim/optimizer.py\u001b[0m in \u001b[0;36mzero_grad\u001b[0;34m(self, set_to_none)\u001b[0m\n\u001b[1;32m    215\u001b[0m                             \u001b[0;32melse\u001b[0m\u001b[0;34m:\u001b[0m\u001b[0;34m\u001b[0m\u001b[0;34m\u001b[0m\u001b[0m\n\u001b[1;32m    216\u001b[0m                                 \u001b[0mp\u001b[0m\u001b[0;34m.\u001b[0m\u001b[0mgrad\u001b[0m\u001b[0;34m.\u001b[0m\u001b[0mrequires_grad_\u001b[0m\u001b[0;34m(\u001b[0m\u001b[0;32mFalse\u001b[0m\u001b[0;34m)\u001b[0m\u001b[0;34m\u001b[0m\u001b[0;34m\u001b[0m\u001b[0m\n\u001b[0;32m--> 217\u001b[0;31m                             \u001b[0mp\u001b[0m\u001b[0;34m.\u001b[0m\u001b[0mgrad\u001b[0m\u001b[0;34m.\u001b[0m\u001b[0mzero_\u001b[0m\u001b[0;34m(\u001b[0m\u001b[0;34m)\u001b[0m\u001b[0;34m\u001b[0m\u001b[0;34m\u001b[0m\u001b[0m\n\u001b[0m\u001b[1;32m    218\u001b[0m \u001b[0;34m\u001b[0m\u001b[0m\n\u001b[1;32m    219\u001b[0m     \u001b[0;32mdef\u001b[0m \u001b[0mstep\u001b[0m\u001b[0;34m(\u001b[0m\u001b[0mself\u001b[0m\u001b[0;34m,\u001b[0m \u001b[0mclosure\u001b[0m\u001b[0;34m)\u001b[0m\u001b[0;34m:\u001b[0m\u001b[0;34m\u001b[0m\u001b[0;34m\u001b[0m\u001b[0m\n",
      "\u001b[0;31mKeyboardInterrupt\u001b[0m: "
     ]
    }
   ],
   "source": [
    "import torch\n",
    "from info_nas.trainer import train\n",
    "\n",
    "if torch.cuda.is_available():\n",
    "    torch.backends.cudnn.benchmark = True\n",
    "    device = torch.device('cuda')\n",
    "else:\n",
    "    device = None\n",
    "    \n",
    "model = train(labeled_2, unlabeled, nb, device=device, n_workers=4, n_val_workers=4, k=100)"
   ]
  },
  {
   "cell_type": "code",
   "execution_count": 6,
   "metadata": {},
   "outputs": [
    {
     "name": "stdout",
     "output_type": "stream",
     "text": [
      "tensor(1.) tensor(1.)\n"
     ]
    }
   ],
   "source": [
    "labeled_2 = labeled.copy()\n",
    "\n",
    "imax = labeled_2['train_io']['inputs'].max()\n",
    "labeled_2['train_io']['inputs'] /= imax\n",
    "\n",
    "omax = labeled_2['train_io']['outputs'].max()\n",
    "labeled_2['train_io']['outputs'] /= omax\n",
    "\n",
    "print(labeled_2['train_io']['inputs'].max(), labeled_2['train_io']['outputs'].max())"
   ]
  },
  {
   "cell_type": "code",
   "execution_count": 8,
   "metadata": {},
   "outputs": [
    {
     "data": {
      "text/plain": [
       "4000"
      ]
     },
     "execution_count": 8,
     "metadata": {},
     "output_type": "execute_result"
    }
   ],
   "source": [
    "len(labeled['train_io']['inputs'])"
   ]
  },
  {
   "cell_type": "code",
   "execution_count": null,
   "metadata": {},
   "outputs": [],
   "source": []
  }
 ],
 "metadata": {
  "kernelspec": {
   "display_name": "pyt_conda",
   "language": "python",
   "name": "pyt_conda"
  },
  "toc": {
   "base_numbering": 1,
   "nav_menu": {},
   "number_sections": true,
   "sideBar": true,
   "skip_h1_title": false,
   "title_cell": "Table of Contents",
   "title_sidebar": "Contents",
   "toc_cell": false,
   "toc_position": {},
   "toc_section_display": true,
   "toc_window_display": false
  },
  "varInspector": {
   "cols": {
    "lenName": 16,
    "lenType": 16,
    "lenVar": 40
   },
   "kernels_config": {
    "python": {
     "delete_cmd_postfix": "",
     "delete_cmd_prefix": "del ",
     "library": "var_list.py",
     "varRefreshCmd": "print(var_dic_list())"
    },
    "r": {
     "delete_cmd_postfix": ") ",
     "delete_cmd_prefix": "rm(",
     "library": "var_list.r",
     "varRefreshCmd": "cat(var_dic_list()) "
    }
   },
   "types_to_exclude": [
    "module",
    "function",
    "builtin_function_or_method",
    "instance",
    "_Feature"
   ],
   "window_display": false
  }
 },
 "nbformat": 4,
 "nbformat_minor": 4
}
