{
 "cells": [
  {
   "cell_type": "code",
   "execution_count": 1,
   "metadata": {},
   "outputs": [],
   "source": [
    "from info_nas.datasets.networks.pretrained import pretrain_network_cifar\n",
    "from info_nas.datasets.networks.utils import load_nasbench\n",
    "from nasbench_pytorch.datasets.cifar10 import prepare_dataset"
   ]
  },
  {
   "cell_type": "code",
   "execution_count": 3,
   "metadata": {},
   "outputs": [
    {
     "name": "stdout",
     "output_type": "stream",
     "text": [
      "--- Preparing CIFAR10 Data ---\n",
      "Files already downloaded and verified\n",
      "Files already downloaded and verified\n",
      "--- CIFAR10 Data Prepared ---\n"
     ]
    }
   ],
   "source": [
    "seed = 42\n",
    "batch_size = 32\n",
    "num_workers = 2\n",
    "\n",
    "dataset = prepare_dataset(batch_size, root='../data/', validation_size=1000, random_state=seed,\n",
    "                          num_workers=num_workers)\n",
    "train, n_train, val, n_val, test, n_test = dataset"
   ]
  },
  {
   "cell_type": "code",
   "execution_count": 11,
   "metadata": {},
   "outputs": [
    {
     "data": {
      "text/plain": [
       "['0000cb5372fad9d62c470df699ac6d52.tar',\n",
       " '0000fa05697179112aaf69c2f0a51a0f.tar',\n",
       " '0001a2f6c8977346ccd12fa0c435bf42.tar',\n",
       " '0001b322e18b86665c067ffa09e46897.tar']"
      ]
     },
     "execution_count": 11,
     "metadata": {},
     "output_type": "execute_result"
    }
   ],
   "source": [
    "import os\n",
    "\n",
    "checkpoint_dir = '../data/checkpoints/nasbench_10-epochs_cifar-10/'\n",
    "\n",
    "os.listdir(f'{checkpoint_dir}')"
   ]
  },
  {
   "cell_type": "code",
   "execution_count": 2,
   "metadata": {},
   "outputs": [
    {
     "name": "stdout",
     "output_type": "stream",
     "text": [
      "Loading dataset from file... This may take a few minutes...\n",
      "WARNING:tensorflow:From c:\\users\\gabi\\documents\\code\\diplomka\\nasbench\\nasbench\\api.py:146: tf_record_iterator (from tensorflow.python.lib.io.tf_record) is deprecated and will be removed in a future version.\n",
      "Instructions for updating:\n",
      "Use eager execution and: \n",
      "`tf.data.TFRecordDataset(path)`\n",
      "Loaded dataset in 148 seconds\n"
     ]
    }
   ],
   "source": [
    "from nasbench import api\n",
    "\n",
    "nasbench_path = '../data/nasbench_only108.tfrecord'\n",
    "nb = api.NASBench(nasbench_path)"
   ]
  },
  {
   "cell_type": "code",
   "execution_count": 13,
   "metadata": {},
   "outputs": [],
   "source": [
    "import torch\n",
    "from info_nas.datasets.networks.utils import load_trained_net\n",
    "\n",
    "device = torch.device('cuda') if torch.cuda.is_available() else torch.device('cpu')\n",
    "\n",
    "net_path = f'{checkpoint_dir}0000cb5372fad9d62c470df699ac6d52.tar'\n",
    "net, info = load_trained_net(net_path, nb)\n",
    "net = net.to(device)\n",
    "net"
   ]
  },
  {
   "cell_type": "code",
   "execution_count": 14,
   "metadata": {},
   "outputs": [
    {
     "name": "stdout",
     "output_type": "stream",
     "text": [
      "torch.Size([32, 3, 32, 32])\n",
      "torch.Size([32])\n"
     ]
    }
   ],
   "source": [
    "for batch_idx, (inputs, targets) in enumerate(val):\n",
    "    inputs, targets = inputs.to(device), targets.to(device)\n",
    "    break\n",
    "    \n",
    "print(inputs.shape)\n",
    "print(targets.shape)"
   ]
  },
  {
   "cell_type": "code",
   "execution_count": 17,
   "metadata": {},
   "outputs": [
    {
     "name": "stdout",
     "output_type": "stream",
     "text": [
      "Loading dataset from file... This may take a few minutes...\n",
      "Loaded dataset in 141 seconds\n"
     ]
    }
   ],
   "source": [
    "nasbench = load_nasbench(nasbench_path)"
   ]
  },
  {
   "cell_type": "code",
   "execution_count": 25,
   "metadata": {},
   "outputs": [],
   "source": [
    "from nasbench_pytorch.model import Network as NBNetwork\n",
    "\n",
    "net = nasbench[0]\n",
    "net = NBNetwork((net[2], net[1]), 10)"
   ]
  },
  {
   "cell_type": "code",
   "execution_count": 26,
   "metadata": {},
   "outputs": [
    {
     "data": {
      "text/plain": [
       "torch.Size([32, 10])"
      ]
     },
     "execution_count": 26,
     "metadata": {},
     "output_type": "execute_result"
    }
   ],
   "source": [
    "with torch.no_grad():\n",
    "    outputs = net(inputs)\n",
    "    \n",
    "outputs.shape"
   ]
  },
  {
   "cell_type": "code",
   "execution_count": 27,
   "metadata": {},
   "outputs": [
    {
     "name": "stdout",
     "output_type": "stream",
     "text": [
      "torch.Size([32, 128, 32, 32])\n",
      "torch.Size([32, 128, 32, 32])\n",
      "torch.Size([32, 128, 32, 32])\n",
      "torch.Size([32, 256, 16, 16])\n",
      "torch.Size([32, 256, 16, 16])\n",
      "torch.Size([32, 256, 16, 16])\n",
      "torch.Size([32, 512, 8, 8])\n",
      "torch.Size([32, 512, 8, 8])\n",
      "torch.Size([32, 512, 8, 8])\n",
      "torch.Size([32, 10])\n",
      "\n"
     ]
    }
   ],
   "source": [
    "with torch.no_grad():\n",
    "    out_list = net.get_cell_outputs(inputs, return_inputs=False)\n",
    "    \n",
    "[print(o.shape) for o in out_list]\n",
    "print()"
   ]
  },
  {
   "cell_type": "code",
   "execution_count": 28,
   "metadata": {},
   "outputs": [
    {
     "name": "stdout",
     "output_type": "stream",
     "text": [
      "torch.Size([32, 128, 32, 32])  ->  torch.Size([32, 128, 32, 32])\n",
      "torch.Size([32, 128, 32, 32])  ->  torch.Size([32, 128, 32, 32])\n",
      "torch.Size([32, 128, 32, 32])  ->  torch.Size([32, 128, 32, 32])\n",
      "torch.Size([32, 128, 16, 16])  ->  torch.Size([32, 256, 16, 16])\n",
      "torch.Size([32, 256, 16, 16])  ->  torch.Size([32, 256, 16, 16])\n",
      "torch.Size([32, 256, 16, 16])  ->  torch.Size([32, 256, 16, 16])\n",
      "torch.Size([32, 256, 8, 8])  ->  torch.Size([32, 512, 8, 8])\n",
      "torch.Size([32, 512, 8, 8])  ->  torch.Size([32, 512, 8, 8])\n",
      "torch.Size([32, 512, 8, 8])  ->  torch.Size([32, 512, 8, 8])\n",
      "torch.Size([32, 512, 8, 8])  ->  torch.Size([32, 10])\n",
      "\n"
     ]
    }
   ],
   "source": [
    "with torch.no_grad():\n",
    "    in_list, out_list = net.get_cell_outputs(inputs, return_inputs=True)\n",
    "    \n",
    "[print(i.shape, ' -> ', o.shape) for i, o in zip(in_list, out_list)]\n",
    "print()"
   ]
  },
  {
   "cell_type": "code",
   "execution_count": 44,
   "metadata": {},
   "outputs": [
    {
     "name": "stdout",
     "output_type": "stream",
     "text": [
      "0\n",
      "5\n",
      "10\n",
      "15\n",
      "20\n",
      "25\n",
      "30\n",
      "35\n",
      "40\n",
      "45\n",
      "50\n",
      "55\n",
      "60\n",
      "65\n",
      "70\n",
      "75\n",
      "80\n",
      "85\n",
      "90\n",
      "95\n",
      "100\n",
      "105\n",
      "110\n",
      "115\n",
      "120\n",
      "125\n",
      "130\n",
      "135\n",
      "140\n",
      "145\n"
     ]
    }
   ],
   "source": [
    "for i, next_net in enumerate(nasbench[:150]):\n",
    "    if (i % 5) == 0:\n",
    "        print(i)\n",
    "\n",
    "    next_net = NBNetwork((next_net[2], next_net[1]), 10)\n",
    "    \n",
    "    with torch.no_grad():        \n",
    "        n_in, n_out = next_net.get_cell_outputs(inputs, return_inputs=True)\n",
    "        \n",
    "        for i, ni in zip(in_list, n_in):\n",
    "            assert i.shape == ni.shape\n",
    "            \n",
    "        for o, no in zip(out_list, n_out):\n",
    "            assert o.shape == no.shape"
   ]
  },
  {
   "cell_type": "code",
   "execution_count": 43,
   "metadata": {},
   "outputs": [
    {
     "data": {
      "text/plain": [
       "423624"
      ]
     },
     "execution_count": 43,
     "metadata": {},
     "output_type": "execute_result"
    }
   ],
   "source": [
    "len(nasbench)"
   ]
  },
  {
   "cell_type": "code",
   "execution_count": null,
   "metadata": {},
   "outputs": [],
   "source": []
  }
 ],
 "metadata": {
  "kernelspec": {
   "display_name": "Python 3",
   "language": "python",
   "name": "python3"
  },
  "language_info": {
   "codemirror_mode": {
    "name": "ipython",
    "version": 3
   },
   "file_extension": ".py",
   "mimetype": "text/x-python",
   "name": "python",
   "nbconvert_exporter": "python",
   "pygments_lexer": "ipython3",
   "version": "3.8.10"
  },
  "toc": {
   "base_numbering": 1,
   "nav_menu": {},
   "number_sections": true,
   "sideBar": true,
   "skip_h1_title": false,
   "title_cell": "Table of Contents",
   "title_sidebar": "Contents",
   "toc_cell": false,
   "toc_position": {},
   "toc_section_display": true,
   "toc_window_display": false
  },
  "varInspector": {
   "cols": {
    "lenName": 16,
    "lenType": 16,
    "lenVar": 40
   },
   "kernels_config": {
    "python": {
     "delete_cmd_postfix": "",
     "delete_cmd_prefix": "del ",
     "library": "var_list.py",
     "varRefreshCmd": "print(var_dic_list())"
    },
    "r": {
     "delete_cmd_postfix": ") ",
     "delete_cmd_prefix": "rm(",
     "library": "var_list.r",
     "varRefreshCmd": "cat(var_dic_list()) "
    }
   },
   "types_to_exclude": [
    "module",
    "function",
    "builtin_function_or_method",
    "instance",
    "_Feature"
   ],
   "window_display": false
  }
 },
 "nbformat": 4,
 "nbformat_minor": 4
}
